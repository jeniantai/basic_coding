{
 "cells": [
  {
   "cell_type": "markdown",
   "metadata": {},
   "source": [
    "Get the highest numerical value that can be represented in a 13-bit binary number"
   ]
  },
  {
   "cell_type": "code",
   "execution_count": 1,
   "metadata": {},
   "outputs": [
    {
     "data": {
      "text/plain": [
       "8191"
      ]
     },
     "execution_count": 1,
     "metadata": {},
     "output_type": "execute_result"
    }
   ],
   "source": [
    "2**13-1"
   ]
  },
  {
   "cell_type": "markdown",
   "metadata": {},
   "source": [
    "Get MSB and LSB of the binary number 011100100011"
   ]
  },
  {
   "cell_type": "code",
   "execution_count": 2,
   "metadata": {},
   "outputs": [
    {
     "data": {
      "text/plain": [
       "1"
      ]
     },
     "execution_count": 2,
     "metadata": {},
     "output_type": "execute_result"
    }
   ],
   "source": [
    "2**0*1"
   ]
  },
  {
   "cell_type": "code",
   "execution_count": 3,
   "metadata": {},
   "outputs": [
    {
     "data": {
      "text/plain": [
       "0"
      ]
     },
     "execution_count": 3,
     "metadata": {},
     "output_type": "execute_result"
    }
   ],
   "source": [
    "2**12*0"
   ]
  },
  {
   "cell_type": "markdown",
   "metadata": {},
   "source": [
    "Convert 100110<sub>2</sub> to decimal value"
   ]
  },
  {
   "cell_type": "code",
   "execution_count": 4,
   "metadata": {},
   "outputs": [
    {
     "data": {
      "text/plain": [
       "38"
      ]
     },
     "execution_count": 4,
     "metadata": {},
     "output_type": "execute_result"
    }
   ],
   "source": [
    "2**5+2**2+2**1"
   ]
  },
  {
   "cell_type": "markdown",
   "metadata": {},
   "source": [
    "Convert 27<sub>10</sub> to binary"
   ]
  },
  {
   "cell_type": "code",
   "execution_count": 5,
   "metadata": {},
   "outputs": [
    {
     "name": "stdout",
     "output_type": "stream",
     "text": [
      "13\n",
      "6\n",
      "3\n",
      "1\n",
      "0\n"
     ]
    }
   ],
   "source": [
    "result1 = 27//2\n",
    "remainder1 = 27%2\n",
    "print(result1)\n",
    "result2 = result1//2\n",
    "remainder2 = result1%2\n",
    "print(result2)\n",
    "result3 = result2//2\n",
    "remainder3 = result2%2\n",
    "print(result3)\n",
    "result4 = result3//2\n",
    "remainder4 = result3%2\n",
    "print(result4)\n",
    "result5 = result4//2\n",
    "remainder5 = result4%2\n",
    "print(result5)"
   ]
  },
  {
   "cell_type": "code",
   "execution_count": 6,
   "metadata": {},
   "outputs": [
    {
     "data": {
      "text/plain": [
       "11011"
      ]
     },
     "execution_count": 6,
     "metadata": {},
     "output_type": "execute_result"
    }
   ],
   "source": [
    "remainder1+remainder2*10+remainder3*100+remainder4*1000+remainder5*10**4"
   ]
  },
  {
   "cell_type": "code",
   "execution_count": 7,
   "metadata": {},
   "outputs": [
    {
     "name": "stdout",
     "output_type": "stream",
     "text": [
      "52345 = 0b1100110001111001 in binary.\n",
      "\n",
      "\n",
      "1100110001111001 = 52345 in decimal.\n"
     ]
    }
   ],
   "source": [
    "print(f\"52345 = {bin(52345)} in binary.\\n\\n\")\n",
    "\n",
    "print(f\"1100110001111001 = {int(0b1100110001111001)} in decimal.\")"
   ]
  },
  {
   "cell_type": "markdown",
   "metadata": {},
   "source": [
    "NAND Gate\n",
    "\n",
    "This gate receives two inputs and returns current as long as at least one of the inputs is off."
   ]
  },
  {
   "cell_type": "code",
   "execution_count": 8,
   "metadata": {},
   "outputs": [
    {
     "name": "stdout",
     "output_type": "stream",
     "text": [
      "A: 0, B: 0 | Output: 1\n",
      "A: 0, B: 1 | Output: 1\n",
      "A: 1, B: 0 | Output: 1\n",
      "A: 1, B: 1 | Output: 0\n"
     ]
    }
   ],
   "source": [
    "def NAND_gate(a, b):\n",
    "  if a:\n",
    "    if b:\n",
    "      return 0\n",
    "  return 1\n",
    "\n",
    "# Truth Table\n",
    "\n",
    "print(\"A: 0, B: 0 | Output: {0}\".format(NAND_gate(0, 0)))\n",
    "print(\"A: 0, B: 1 | Output: {0}\".format(NAND_gate(0, 1)))\n",
    "print(\"A: 1, B: 0 | Output: {0}\".format(NAND_gate(1, 0)))\n",
    "print(\"A: 1, B: 1 | Output: {0}\".format(NAND_gate(1, 1)))"
   ]
  },
  {
   "cell_type": "markdown",
   "metadata": {},
   "source": [
    "NOT Gate\n",
    "\n",
    "NOT only has one input and returns the opposite."
   ]
  },
  {
   "cell_type": "code",
   "execution_count": 9,
   "metadata": {},
   "outputs": [
    {
     "name": "stdout",
     "output_type": "stream",
     "text": [
      "A: 0 | Output: 1\n",
      "A: 1 | Output: 0\n"
     ]
    }
   ],
   "source": [
    "# two ways to define NOT gate\n",
    "\n",
    "def NOT_gate(a):\n",
    "  return NAND_gate(a, a)\n",
    "\n",
    "def NOT_gate2(a):\n",
    "  if a:\n",
    "    return 0\n",
    "  return 1\n",
    "\n",
    "# Truth Table\n",
    "\n",
    "print(\"A: 0 | Output: {0}\".format(NOT_gate(0)))\n",
    "print(\"A: 1 | Output: {0}\".format(NOT_gate(1)))"
   ]
  },
  {
   "cell_type": "markdown",
   "metadata": {},
   "source": [
    "AND Gate\n",
    "\n",
    "This gate receives two inputs and only returns current if the inputs are both on."
   ]
  },
  {
   "cell_type": "code",
   "execution_count": 10,
   "metadata": {},
   "outputs": [
    {
     "name": "stdout",
     "output_type": "stream",
     "text": [
      "A: 0, B: 0 | Output: 0\n",
      "A: 0, B: 1 | Output: 0\n",
      "A: 1, B: 0 | Output: 0\n",
      "A: 1, B: 1 | Output: 1\n"
     ]
    }
   ],
   "source": [
    "def AND_gate(a, b):\n",
    "  return NOT_gate(NAND_gate(a, b))\n",
    "\n",
    "# Truth Table\n",
    "\n",
    "print(\"A: 0, B: 0 | Output: {0}\".format(AND_gate(0, 0)))\n",
    "print(\"A: 0, B: 1 | Output: {0}\".format(AND_gate(0, 1)))\n",
    "print(\"A: 1, B: 0 | Output: {0}\".format(AND_gate(1, 0)))\n",
    "print(\"A: 1, B: 1 | Output: {0}\".format(AND_gate(1, 1)))"
   ]
  },
  {
   "cell_type": "markdown",
   "metadata": {},
   "source": [
    "OR Gate\n",
    "\n",
    "This gate receives two inputs and returns 1 if either one of the inputs is 1."
   ]
  },
  {
   "cell_type": "code",
   "execution_count": 11,
   "metadata": {},
   "outputs": [
    {
     "name": "stdout",
     "output_type": "stream",
     "text": [
      "A: 0, B: 0 | Output: 0\n",
      "A: 0, B: 1 | Output: 1\n",
      "A: 1, B: 0 | Output: 1\n",
      "A: 1, B: 1 | Output: 1\n"
     ]
    }
   ],
   "source": [
    "def OR_gate(a, b):\n",
    "  return NAND_gate(NOT_gate(a), NOT_gate(b))\n",
    "\n",
    "\n",
    "# Truth Table\n",
    "\n",
    "print(\"A: 0, B: 0 | Output: {0}\".format(OR_gate(0, 0)))\n",
    "print(\"A: 0, B: 1 | Output: {0}\".format(OR_gate(0, 1)))\n",
    "print(\"A: 1, B: 0 | Output: {0}\".format(OR_gate(1, 0)))\n",
    "print(\"A: 1, B: 1 | Output: {0}\".format(OR_gate(1, 1)))"
   ]
  },
  {
   "cell_type": "markdown",
   "metadata": {},
   "source": [
    "XOR Gate\n",
    "\n",
    "This gate receives two inputs, a and b, and only returns a 1 if one of the inputs is 1, but not if both of the inputs are 1."
   ]
  },
  {
   "cell_type": "code",
   "execution_count": 12,
   "metadata": {},
   "outputs": [
    {
     "name": "stdout",
     "output_type": "stream",
     "text": [
      "A: 0, B: 0 | Output: 0\n",
      "A: 0, B: 1 | Output: 1\n",
      "A: 1, B: 0 | Output: 1\n",
      "A: 1, B: 1 | Output: 0\n"
     ]
    }
   ],
   "source": [
    "def XOR_gate(a, b):\n",
    "  return AND_gate(NAND_gate(a, b), OR_gate(a, b))\n",
    "\n",
    "\n",
    "# Truth Table\n",
    "\n",
    "print(\"A: 0, B: 0 | Output: {0}\".format(XOR_gate(0, 0)))\n",
    "print(\"A: 0, B: 1 | Output: {0}\".format(XOR_gate(0, 1)))\n",
    "print(\"A: 1, B: 0 | Output: {0}\".format(XOR_gate(1, 0)))\n",
    "print(\"A: 1, B: 1 | Output: {0}\".format(XOR_gate(1, 1)))"
   ]
  },
  {
   "cell_type": "markdown",
   "metadata": {},
   "source": [
    "Creating an Adder Circuit"
   ]
  },
  {
   "cell_type": "code",
   "execution_count": 13,
   "metadata": {},
   "outputs": [
    {
     "name": "stdout",
     "output_type": "stream",
     "text": [
      "A: 0, B: 0 | Output: (0, 0)\n",
      "A: 0, B: 1 | Output: (1, 0)\n",
      "A: 1, B: 0 | Output: (1, 0)\n",
      "A: 1, B: 1 | Output: (0, 1)\n"
     ]
    }
   ],
   "source": [
    "def half_adder(a, b):\n",
    "  \"\"\"\n",
    "  returns: \n",
    "  a tuple of two ints that are sum bits and carry bits\n",
    "  \"\"\"\n",
    "  s = XOR_gate(a, b)\n",
    "  c = AND_gate(a, b)\n",
    "  return (s, c)\n",
    "\n",
    "print(\"A: 0, B: 0 | Output: {0}\".format(half_adder(0, 0)))\n",
    "print(\"A: 0, B: 1 | Output: {0}\".format(half_adder(0, 1)))\n",
    "print(\"A: 1, B: 0 | Output: {0}\".format(half_adder(1, 0)))\n",
    "print(\"A: 1, B: 1 | Output: {0}\".format(half_adder(1, 1)))"
   ]
  },
  {
   "cell_type": "code",
   "execution_count": 14,
   "metadata": {},
   "outputs": [
    {
     "name": "stdout",
     "output_type": "stream",
     "text": [
      "(0, 0)\n",
      "(1, 1)\n",
      "(0, 1)\n",
      "(0, 1)\n"
     ]
    }
   ],
   "source": [
    "def full_adder(a, b, c):\n",
    "  s1 = XOR_gate(a, b)\n",
    "  s2 = XOR_gate(s1, c)\n",
    "  c1 = AND_gate(a, b)\n",
    "  c2 = AND_gate(s1, c)\n",
    "  c_out = OR_gate(c1, c2)\n",
    "  return (s2, c_out)\n",
    "\n",
    "def full_adder2(a, b, c):\n",
    "  s = half_adder(half_adder(a, b)[0], c)[0]\n",
    "  c_out = OR_gate(half_adder(a, b)[1], half_adder(half_adder(a, b)[0], c)[1])\n",
    "  return (s, c_out)\n",
    "\n",
    "\n",
    "print(full_adder(0,0,0))\n",
    "print(full_adder(1,1,1))\n",
    "print(full_adder(0,1,1))\n",
    "print(full_adder(1,1,0))"
   ]
  },
  {
   "cell_type": "code",
   "execution_count": 15,
   "metadata": {},
   "outputs": [
    {
     "name": "stdout",
     "output_type": "stream",
     "text": [
      "(0, 0)\n",
      "(1, 0)\n",
      "(0, 1)\n",
      "(1, 1)\n"
     ]
    }
   ],
   "source": [
    "def ALU(a, b, c, opcode):\n",
    "  if opcode:\n",
    "    return full_adder(a, b, c)\n",
    "  return half_adder(a, b)\n",
    "\n",
    "print(ALU(0, 0, 1, 0))\n",
    "print(ALU(0, 0, 1, 1))\n",
    "print(ALU(1, 1, 1, 0))\n",
    "print(ALU(1, 1, 1, 1))"
   ]
  },
  {
   "cell_type": "markdown",
   "metadata": {},
   "source": [
    "### TREES AND GRAPHS\n",
    "#### Ultra Super Calculation Computer\n",
    "You are a software engineer and the new Ultra Super Calculation Computer (USCC) has just arrived in your office to be put online for use by users at USCC Headquarters. Every day the USCC will receive tons of data in the form of binary numbers and it is expected to perform specific calculations on this data but no one has told you how to do it!\n",
    "\n",
    "Lucky for you, the engineers over at USCC headquarters have just sent you a copy of the Instruction Set Architecture that they are using. Finally, we can figure out what all those 1‘s and 0‘s have meant!\n",
    "\n",
    "Your job today is to write the code for the CPU that will support the functions required by the ISA. Based on the design specification in the code editor window, you know you are asked to perform five functions:\n",
    "\n",
    " - Add\n",
    " - Subtract\n",
    " - Multiply\n",
    " - Divide\n",
    " - Display a history of calculations\n",
    "\n",
    "These five functions will also require several other support functions to be written as well so that we can access different parts of our computer hardware. We must also be able to:\n",
    "\n",
    " - Read and split up our incoming data\n",
    " - Store a binary number to a register\n",
    " - Access what is stored in the register\n",
    " - Allocate some registers for a ‘history’ of our calculations\n",
    " - Store/Load from the history when needed\n",
    " \n",
    "Let’s get to it!"
   ]
  },
  {
   "cell_type": "markdown",
   "metadata": {},
   "source": [
    "Calculator Setup\n",
    "\n",
    "Familiarize yourself with the ISA template that was sent down from USCC Headquarters. \n",
    "\n",
    "Your CPU will receive instructions in the form of a Python string and not an actual number. \n",
    "\n",
    "Also, you use two built-in functions that you are familiar with from the Binary lesson, int() and bin(), check out the documentation to brush up on those functions if need be."
   ]
  },
  {
   "cell_type": "code",
   "execution_count": null,
   "metadata": {},
   "outputs": [],
   "source": [
    "#-------------------------------------------\n",
    "# USCC Headquarter's Instruction Set Architecture\n",
    "#  System Design:\n",
    "#   - Four function calculator\n",
    "#   - Can only operate on numbers stored in registers\n",
    "#   - Processor receives binary data as 32-bit strings\n",
    "#   - Returns results to the terminal\n",
    "#   - Can operate on 10-bit numbers (0 thru 1023)\n",
    "#   - Results can be negative (5 - 10 = -5)\n",
    "#  Instruction format:\n",
    "#   - 32 bit's in length\n",
    "#   - Binary data will come to the CPU as a string\n",
    "#   - Registers (32 total on CPU, 0-indexed)\n",
    "#      - 0 thru 21:  Available for number storage\n",
    "#        - 0: Constant 0\n",
    "#      - 22 thru 31: Available for history storage\n",
    "# +=======+=======+=======+=======+=======+=======+=======+=======+\n",
    "# | 0: 0  | 1:    | 2:    | 3:    | 4:    | 5:    | 6:    | 7:    |\n",
    "# +-------+-------+-------+-------+-------+-------+-------+-------+\n",
    "# | 8:    | 9:    |10:    |11:    |12:    |13:    |14:    |15:    |\n",
    "# +-------+-------+-------+-------+-------+-------+-------+-------+\n",
    "# |16:    |17:    |18:    |19:    |20:    |21:    |22: H0 |23: H1 |\n",
    "# +-------+-------+-------+-------+-------+-------+-------+-------+\n",
    "# |24: H2 |25: H3 |26: H4 |27: H5 |28: H6 |29: H7 |30: H8 |31: H9 |\n",
    "# +=======+=======+=======+=======+=======+=======+=======+=======+\n",
    "#   - Bits 0-5 are OPCODEs\n",
    "#     - use variable 'opcode' in program\n",
    "#   - Bits 6-10 & 11-15 are source register locations\n",
    "#     - use variables 'source_one' and 'source_two' in program\n",
    "#   - Bits 16-25 are reserved for adding a new value to the registers\n",
    "#     - use variable 'store' in program\n",
    "#   - Bits 26-31 are functions\n",
    "#     - use variable 'function_code' in program\n",
    "# +--------+----------+-------------------------------------+\n",
    "# | OPCODE | FUNCTION | Definition                          |\n",
    "# | 000000 |  100000  | Add two numbers from registers      |\n",
    "# | 000000 |  100010  | Subtract two numbers from registers |\n",
    "# | 000000 |  011000  | Multiply two numbers from registers |\n",
    "# | 000000 |  011010  | Divide two numbers from registers   |\n",
    "# | 000001 |  000000  | Store value to next register        |\n",
    "# | 100001 |  000000  | Return previous calculation         |\n",
    "# +--------+----------+-------------------------------------+"
   ]
  },
  {
   "cell_type": "markdown",
   "metadata": {},
   "source": [
    "Your first task is to create a Python class that you will use to instantiate your calculator when it is to be used.\n",
    "\n",
    "This will allow each of the users at USCC HQ the ability to have their own personalized calculator.\n",
    "\n",
    "Just below the last comment, create the class UltraSuperCalculator.\n",
    "\n",
    "Within the class, define the __init__() constructor method. It will have two parameters: self and name and return None.\n",
    "\n",
    "Create the instance variable name and set it equal to the argument name. When a USCC user creates their calculator, this is where they will store their name.\n",
    "\n",
    "Now let’s set up your registers according to the ISA documentation. Still within the __init__ method, create two more instance variables, number_registers and history_registers.\n",
    "\n",
    "Both sets of registers will be represented by lists of zeros equal to the number of registers allocated in the documentation. Remember, normally your registers are hardwired memory directly on the CPU used for quick access.\n",
    "\n",
    "These lists will simulate our empty registers when the calculator is first turned on.\n",
    "\n",
    "Your CPU can only perform functions on data stored in the registers. Since these are simulated as Python lists, you will use the list indexes to store and retrieve data for the operations.\n",
    "\n",
    "Create three more instance variables inside the __init__() method: numbers_index, history_index, and temp_history_index.\n",
    "\n",
    "In the ISA documentation, number_registers[0] is always 0. Since we will never change it, we will begin our indexing at 1. Set numbers_index equal to 1.\n",
    "\n",
    "Set both history indexes equal to 0.\n",
    "\n",
    "To finish off your constructor method, declare your final instance variable: user_display and set it equal to an empty string. This will be the data that you will return to the user.\n",
    "\n",
    "Now it’s time to create a method that will update the terminal window for the user per the System Design parameters.\n",
    "\n",
    "Define a method update_display() that accepts two parameters, self and to_update. The method will update the instance variable user_display to equal to_update and then print the user_display to the console.\n",
    "\n",
    "Now that you’ve created a way to display information to the USCC user, let’s set a welcome message for them when they start the calculator.\n",
    "\n",
    "Go back inside the constructor method, at the bottom, and add a call to your newly created update_display() method.\n",
    "\n",
    "Pass in your own custom message to the user, try to include their name if you can!\n",
    "\n",
    "According to the ISA, the CPU can only operate on its registers and there is no allowance for direct access to memory locations or passed in values. This is common in smaller systems like the USCC.\n",
    "\n",
    "Back inside your class, define a new empty method, store_value_to_register() that has two parameters, self and value_to_store.\n",
    "\n",
    "You need to ensure that when you store values to your numbers register you meet two requirements:\n",
    "\n",
    "Never overwrite the constant 0 stored at index 0\n",
    "If all your registers are full, begin overwriting the oldest registers\n",
    "Inside the store_value_to_register() method, create an if statement that checks if numbers_index is greater than 21. If it is, set it equal to 1.\n",
    "\n",
    "This accomplishes both register parameters by ensuring our index never goes to 0 and then we loop through the indexes from 1 to 21.\n",
    "\n",
    "One of the important concepts of working with registers and computer hardware is remembering what is stored where. Still inside the store_value_to_register() method, add a print() statement that tells the user what value was stored along with the register address.\n",
    "\n",
    "Once this is complete, increase the numbers_index by one so that the next number we save will go into the next available register.\n",
    "\n",
    "Create an empty method, load_value_from_register(), that will be used to load a value from the register for use inside the actual calculation methods. It will have two parameters, self and register_address.\n",
    "\n",
    "Inside the load_value_from_register() method, create a local variable index that converts the register_address binary number to an int.\n",
    "\n",
    "\n",
    "Create another local variable, int_value, and set it equal to the number stored in number_registers at the index. Type-cast the value to an int just in case there is a transcription problem on your local computer.\n",
    "\n",
    "Return int_value at the end of the method.\n",
    "\n",
    "Define a new method, store_to_history_register() that accepts two parameters, self and result_to_store.\n",
    "\n",
    "Similar to the store_value_to_register() method, create an if statement that ensures our history_index is not greater than 9, if the condition is true, set it equal to 0.\n",
    "\n",
    "Convert the result_to_store parameter to a binary number and store it inside the history_registers list at the history_index.\n",
    "\n",
    "Increase the history_index by 1 and then set the temp_history_index equal to the history_index. By doing this, you will ensure that after each calculation the history starts at the right location.\n",
    "\n",
    "Declare a new method, add(), that accepts three parameters: self, address_num1, and address_num2.\n",
    "\n",
    "Remember that you can only operate on numbers stored in the registers, so you are passing in registry addresses to the method so it can fetch the data.\n",
    "\n",
    "Next, create two local variables, num1 and num2, and set them equal to the values from the register. This will require a call to load_value_from_register().\n",
    "\n",
    "Now that you’ve retrieved the numbers from memory, create another local variable, calculated_value, and set it equal to the sum of num1 and num2.\n",
    "\n",
    "This value will also be used to update the user display and store to the history register. At the end of the method, return the calculated_value back out of the method.\n",
    "\n",
    "In the divide() method we have to do something a little different to account for a ‘Divide By Zero’ exception. To handle this, add an if-else statement to your method to catch the error before the compiler does.\n",
    "\n",
    "Inside the divide() method create the num1 and num2 variables. Finally, create calculated_value below and set it equal to 0.\n",
    "\n",
    "You will return 0 as the result of the calculation to indicate that a Divide By Zero exception occurred.\n",
    "\n",
    "\n",
    "The last functional method is the get_last_calculation() method. Create this method with only self as the parameter.\n",
    "\n",
    "Inside the get_last_calculation() method, the first thing you will do is decrease the temp_history_index value by 1 in order to look backward in history.\n",
    "\n",
    "After the decrease, create a local variable, last_value. It will contain two parts, a custom message, and the last calculated value. USCC didn’t specify a message, so choose one that you like, here are some suggestions:\n",
    "\n",
    "“The last calculated value was: “\n",
    "“Last result = “\n",
    "The second part of last_value will be the value from history_registers that is located at temp_history_index. Use string interpolation to include the value into your message.\n",
    "\n",
    "Remember that the value stored in the register is in binary and will need to be cast to an int before display.\n",
    "\n",
    "Data from USCC HQ is coming at you in 32-bit long strings, in accordance with the ISA. Declare a method, binary_reader(), that has two parameters, self and instruction.\n",
    "\n",
    "All data sent from the user will get processed through this method so you will need to create some error handling and instruction manipulation as you continue to build it out.\n",
    "\n",
    "The first thing to check is that the incoming data is actually a 32-bit instruction. Create an if statement that checks whether or not the instruction is 32-bits in length. If it isn’t, update the user display with “Invalid Instruction Length” and return out of the method.\n",
    "\n",
    "Now that you know the instruction is 32-bits long, create five local variables inside the binary_reader() method:\n",
    "\n",
    "opcode -source_one -source_two -store -function_code\n",
    "Set each one equal to the correct characters from the instruction argument. Use the ISA documentation.\n",
    "\n",
    "The first part of the instruction you want to read is the OPCODE. Create an if-else statement that checks the following conditions:\n",
    "\n",
    "if opcode equals '000001': call store_value_to_register(store) and return\n",
    "elif opcode equals '100001': call get_last_calculation() and return\n",
    "elif opcode DOES NOT equal '000000': call update_display(\"Invalid OPCODE\") and return\n",
    "This will ensure that the only instructions with an opcode of '000000' will make it to the next lines of code.\n",
    "\n",
    "To check your conditionals are working as intended, see the hint for some tests to run.\n",
    "\n",
    "The next part of the instruction your binary_reader() method needs to read is the function.\n",
    "\n",
    "Create a local variable, result, and set it equal to 0.\n",
    "\n",
    "After the result, add an if-else statement that reassigns result to the value of each of the four function_code functions. Add an else clause that catches all incorrect function_codes and sends an error message to the user before returning.\n",
    "\n",
    "This instruction will be vague on purpose to challenge you to create your own logic. Don’t forget to pass source_one and source_two into your functional methods for each function code.\n",
    "\n",
    "The final step to complete your calculator is to store the result to the history register and update the user display with the message that gives them the result."
   ]
  },
  {
   "cell_type": "code",
   "execution_count": 4,
   "metadata": {},
   "outputs": [],
   "source": [
    "class UltraSuperCalculator:\n",
    "  def __init__(self, name) -> None:\n",
    "    # Instance variables begin with `self` indicating\n",
    "    # they are accessed by references to a specific instance\n",
    "    self.name = name\n",
    "    self.number_registers = [0, 0, 0, 0, 0, 0, 0, 0, 0, 0, 0, 0, 0, 0, 0, 0, 0, 0, 0, 0, 0, 0]\n",
    "    self.history_registers = [0, 0, 0, 0, 0, 0, 0, 0, 0, 0]\n",
    "    # Used to index through the numbers \"registers\"\n",
    "    self.numbers_index = 1\n",
    "\n",
    "    # Used to index through the history \"registers\"\n",
    "    self.history_index = 0\n",
    "    self.temp_history_index = 0\n",
    "    self.user_display = ''\n",
    "    # Sets inital output message\n",
    "    self.update_display(f\"Welcome to {self.name}'s Calculator!\")\n",
    "\n",
    "  def update_display(self, to_update):\n",
    "    self.user_display = to_update\n",
    "    print(self.user_display)\n",
    "\n",
    "  def store_value_to_register(self, value_to_store):\n",
    "    if (self.numbers_index > 21):\n",
    "      self.numbers_index = 1\n",
    "    self.number_registers[self.numbers_index] = int(value_to_store, 2)\n",
    "    print(f\"Value: {int(value_to_store,2)} stored in Register: {self.numbers_index}.\")\n",
    "    self.numbers_index += 1\n",
    "\n",
    "  def load_value_from_register(self, register_address):\n",
    "    index = int(register_address, 2)\n",
    "    int_value = int(self.number_registers[index])\n",
    "    return int_value\n",
    "\n",
    "  def store_to_history_register(self, result_to_store):\n",
    "    if (self.history_index > 9):\n",
    "      self.history_index = 0\n",
    "    self.history_registers[self.history_index] = bin(result_to_store)\n",
    "    self.history_index += 1\n",
    "    self.temp_history_index = self.history_index\n",
    "\n",
    "  # Creating the Main Function Methods\n",
    "  def add(self, address_num1, address_num2):\n",
    "    num1 = self.load_value_from_register(address_num1)\n",
    "    num2 = self.load_value_from_register(address_num2)\n",
    "    calculated_value = num1 + num2\n",
    "    return calculated_value\n",
    "  \n",
    "  def multiply(self, address_num1, address_num2):\n",
    "    num1 = self.load_value_from_register(address_num1)\n",
    "    num2 = self.load_value_from_register(address_num2)\n",
    "    calculated_value = num1 * num2\n",
    "    return calculated_value\n",
    "  \n",
    "  def subtract(self, address_num1, address_num2):\n",
    "    num1 = self.load_value_from_register(address_num1)\n",
    "    num2 = self.load_value_from_register(address_num2)\n",
    "    calculated_value = num1 - num2\n",
    "    return calculated_value\n",
    "  \n",
    "  def divide(self, address_num1, address_num2):\n",
    "    num1 = self.load_value_from_register(address_num1)\n",
    "    num2 = self.load_value_from_register(address_num2)\n",
    "    calculated_value = 0\n",
    "    if (num2 != 0):\n",
    "        calculated_value = int(num1 / num2)\n",
    "    else:\n",
    "        print(f\"Division by 0 error: {num1}/{num2}.\")\n",
    "    return calculated_value\n",
    "  \n",
    "  def get_last_calculation(self):\n",
    "    self.temp_history_index -= 1\n",
    "    last_value = f\"The last calculated value was: {int(self.history_registers[self.temp_history_index], 2)}\"\n",
    "    self.update_display(last_value)\n",
    "  \n",
    "  # Reading the Binary Data\n",
    "  def binary_reader(self, instruction):\n",
    "    if (len(instruction) != 32):\n",
    "        self.update_display(\"Invalid Instruction Length\")\n",
    "        return\n",
    "    opcode = instruction[0 : 6]\n",
    "    source_one = instruction[6 : 11]\n",
    "    source_two = instruction[11 : 16]\n",
    "    store = instruction[16 : 26]\n",
    "    function_code = instruction[26:]\n",
    "    if (opcode == '000001'):\n",
    "        self.store_value_to_register(store)\n",
    "        return\n",
    "    elif (opcode == '100001'):\n",
    "        self.get_last_calculation()\n",
    "        return\n",
    "    elif (opcode != '000000'):\n",
    "        self.update_display(\"Invalid OPCODE\")\n",
    "        return\n",
    "    result = 0\n",
    "\n",
    "    if (function_code == '100000'):\n",
    "        result = self.add(source_one, source_two)\n",
    "    elif (function_code == '100010'):\n",
    "        result = self.subtract(source_one, source_two)\n",
    "    elif (function_code == '011000'):\n",
    "        result = self.multiply(source_one, source_two)\n",
    "    elif (function_code == '011010'):\n",
    "        result = self.divide(source_one, source_two)\n",
    "    else:\n",
    "        self.update_display(\"Invalid Function\")\n",
    "        return\n",
    "    self.store_to_history_register(result)\n",
    "    self.update_display(f\"The result is: {result}\")"
   ]
  },
  {
   "cell_type": "code",
   "execution_count": 8,
   "metadata": {},
   "outputs": [
    {
     "name": "stdout",
     "output_type": "stream",
     "text": [
      "Welcome to David's Calculator!\n"
     ]
    }
   ],
   "source": [
    "your_calculator = UltraSuperCalculator(\"David\")"
   ]
  },
  {
   "cell_type": "code",
   "execution_count": 9,
   "metadata": {},
   "outputs": [
    {
     "name": "stdout",
     "output_type": "stream",
     "text": [
      "Invalid Function\n"
     ]
    }
   ],
   "source": [
    "# you should see your error message\n",
    "your_calculator.binary_reader(\"00000078123456781234567812345678\")"
   ]
  },
  {
   "cell_type": "code",
   "execution_count": null,
   "metadata": {},
   "outputs": [],
   "source": [
    "# Using Your Calculator\n",
    "# First things first, delete the code that you inserted to test your errors. This is the code that was placed at the bottom and outside of your class. Don’t delete the line that instantiated your calculator.\n",
    "# Then, use the binary_reader() method to intake some binary data. Look at your opcodes and function codes from the ISA and do some calculations. Remember you need to store values in the register before you can operate on them.\n",
    "\n",
    "# Adds 5 and 10 to number registers\n",
    "your_calculator.binary_reader(\"00000100000000000000000101000000\")\n",
    "your_calculator.binary_reader(\"00000100000000000000001010000000\")\n",
    "\n",
    "# Adds/Subtracts/Multiplies/Divides 5 and 10 from registers\n",
    "your_calculator.binary_reader(\"00000000001000100000000000100000\")\n",
    "your_calculator.binary_reader(\"00000000001000100000000000100010\")\n",
    "your_calculator.binary_reader(\"00000000001000100000000000011000\")\n",
    "your_calculator.binary_reader(\"00000000001000100000000000011010\")\n",
    "\n",
    "# Gets the last three calculations\n",
    "your_calculator.binary_reader(\"10000100000000000000000000000000\")\n",
    "your_calculator.binary_reader(\"10000100000000000000000000000000\")\n",
    "your_calculator.binary_reader(\"10000100000000000000000000000000\")"
   ]
  },
  {
   "cell_type": "code",
   "execution_count": null,
   "metadata": {},
   "outputs": [],
   "source": []
  }
 ],
 "metadata": {
  "kernelspec": {
   "display_name": "base",
   "language": "python",
   "name": "python3"
  },
  "language_info": {
   "codemirror_mode": {
    "name": "ipython",
    "version": 3
   },
   "file_extension": ".py",
   "mimetype": "text/x-python",
   "name": "python",
   "nbconvert_exporter": "python",
   "pygments_lexer": "ipython3",
   "version": "3.11.5"
  }
 },
 "nbformat": 4,
 "nbformat_minor": 2
}
