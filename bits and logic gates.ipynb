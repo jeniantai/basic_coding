{
 "cells": [
  {
   "cell_type": "markdown",
   "metadata": {},
   "source": [
    "Get the highest numerical value that can be represented in a 13-bit binary number"
   ]
  },
  {
   "cell_type": "code",
   "execution_count": 1,
   "metadata": {},
   "outputs": [
    {
     "data": {
      "text/plain": [
       "8191"
      ]
     },
     "execution_count": 1,
     "metadata": {},
     "output_type": "execute_result"
    }
   ],
   "source": [
    "2**13-1"
   ]
  },
  {
   "cell_type": "markdown",
   "metadata": {},
   "source": [
    "Get MSB and LSB of the binary number 011100100011"
   ]
  },
  {
   "cell_type": "code",
   "execution_count": 3,
   "metadata": {},
   "outputs": [
    {
     "data": {
      "text/plain": [
       "1"
      ]
     },
     "execution_count": 3,
     "metadata": {},
     "output_type": "execute_result"
    }
   ],
   "source": [
    "2**0*1"
   ]
  },
  {
   "cell_type": "code",
   "execution_count": 4,
   "metadata": {},
   "outputs": [
    {
     "data": {
      "text/plain": [
       "0"
      ]
     },
     "execution_count": 4,
     "metadata": {},
     "output_type": "execute_result"
    }
   ],
   "source": [
    "2**12*0"
   ]
  },
  {
   "cell_type": "markdown",
   "metadata": {},
   "source": [
    "Convert 100110<sub>2</sub> to decimal value"
   ]
  },
  {
   "cell_type": "code",
   "execution_count": 5,
   "metadata": {},
   "outputs": [
    {
     "data": {
      "text/plain": [
       "38"
      ]
     },
     "execution_count": 5,
     "metadata": {},
     "output_type": "execute_result"
    }
   ],
   "source": [
    "2**5+2**2+2**1"
   ]
  },
  {
   "cell_type": "markdown",
   "metadata": {},
   "source": [
    "Convert 27<sub>10</sub> to binary"
   ]
  },
  {
   "cell_type": "code",
   "execution_count": 10,
   "metadata": {},
   "outputs": [
    {
     "name": "stdout",
     "output_type": "stream",
     "text": [
      "13\n",
      "6\n",
      "3\n",
      "1\n",
      "0\n"
     ]
    }
   ],
   "source": [
    "result1 = 27//2\n",
    "remainder1 = 27%2\n",
    "print(result1)\n",
    "result2 = result1//2\n",
    "remainder2 = result1%2\n",
    "print(result2)\n",
    "result3 = result2//2\n",
    "remainder3 = result2%2\n",
    "print(result3)\n",
    "result4 = result3//2\n",
    "remainder4 = result3%2\n",
    "print(result4)\n",
    "result5 = result4//2\n",
    "remainder5 = result4%2\n",
    "print(result5)"
   ]
  },
  {
   "cell_type": "code",
   "execution_count": 12,
   "metadata": {},
   "outputs": [
    {
     "data": {
      "text/plain": [
       "11011"
      ]
     },
     "execution_count": 12,
     "metadata": {},
     "output_type": "execute_result"
    }
   ],
   "source": [
    "remainder1+remainder2*10+remainder3*100+remainder4*1000+remainder5*10**4"
   ]
  },
  {
   "cell_type": "code",
   "execution_count": 1,
   "metadata": {},
   "outputs": [
    {
     "name": "stdout",
     "output_type": "stream",
     "text": [
      "52345 = 0b1100110001111001 in binary.\n",
      "\n",
      "\n",
      "1100110001111001 = 52345 in decimal.\n"
     ]
    }
   ],
   "source": [
    "print(f\"52345 = {bin(52345)} in binary.\\n\\n\")\n",
    "\n",
    "print(f\"1100110001111001 = {int(0b1100110001111001)} in decimal.\")"
   ]
  },
  {
   "cell_type": "markdown",
   "metadata": {},
   "source": [
    "NAND Gate\n",
    "\n",
    "This gate receives two inputs and returns current as long as at least one of the inputs is off."
   ]
  },
  {
   "cell_type": "code",
   "execution_count": 2,
   "metadata": {},
   "outputs": [
    {
     "name": "stdout",
     "output_type": "stream",
     "text": [
      "A: 0, B: 0 | Output: 1\n",
      "A: 0, B: 1 | Output: 1\n",
      "A: 1, B: 0 | Output: 1\n",
      "A: 1, B: 1 | Output: 0\n"
     ]
    }
   ],
   "source": [
    "def NAND_gate(a, b):\n",
    "  if a:\n",
    "    if b:\n",
    "      return 0\n",
    "  return 1\n",
    "\n",
    "# Truth Table\n",
    "\n",
    "print(\"A: 0, B: 0 | Output: {0}\".format(NAND_gate(0, 0)))\n",
    "print(\"A: 0, B: 1 | Output: {0}\".format(NAND_gate(0, 1)))\n",
    "print(\"A: 1, B: 0 | Output: {0}\".format(NAND_gate(1, 0)))\n",
    "print(\"A: 1, B: 1 | Output: {0}\".format(NAND_gate(1, 1)))"
   ]
  },
  {
   "cell_type": "markdown",
   "metadata": {},
   "source": [
    "NOT Gate\n",
    "\n",
    "NOT only has one input and returns the opposite."
   ]
  },
  {
   "cell_type": "code",
   "execution_count": 3,
   "metadata": {},
   "outputs": [
    {
     "name": "stdout",
     "output_type": "stream",
     "text": [
      "A: 0 | Output: 1\n",
      "A: 1 | Output: 0\n"
     ]
    }
   ],
   "source": [
    "# two ways to define NOT gate\n",
    "\n",
    "def NOT_gate(a):\n",
    "  return NAND_gate(a, a)\n",
    "\n",
    "def NOT_gate2(a):\n",
    "  if a:\n",
    "    return 0\n",
    "  return 1\n",
    "\n",
    "# Truth Table\n",
    "\n",
    "print(\"A: 0 | Output: {0}\".format(NOT_gate(0)))\n",
    "print(\"A: 1 | Output: {0}\".format(NOT_gate(1)))"
   ]
  },
  {
   "cell_type": "markdown",
   "metadata": {},
   "source": [
    "AND Gate\n",
    "\n",
    "This gate receives two inputs and only returns current if the inputs are both on."
   ]
  },
  {
   "cell_type": "code",
   "execution_count": 4,
   "metadata": {},
   "outputs": [
    {
     "name": "stdout",
     "output_type": "stream",
     "text": [
      "A: 0, B: 0 | Output: 0\n",
      "A: 0, B: 1 | Output: 0\n",
      "A: 1, B: 0 | Output: 0\n",
      "A: 1, B: 1 | Output: 1\n"
     ]
    }
   ],
   "source": [
    "def AND_gate(a, b):\n",
    "  return NOT_gate(NAND_gate(a, b))\n",
    "\n",
    "# Truth Table\n",
    "\n",
    "print(\"A: 0, B: 0 | Output: {0}\".format(AND_gate(0, 0)))\n",
    "print(\"A: 0, B: 1 | Output: {0}\".format(AND_gate(0, 1)))\n",
    "print(\"A: 1, B: 0 | Output: {0}\".format(AND_gate(1, 0)))\n",
    "print(\"A: 1, B: 1 | Output: {0}\".format(AND_gate(1, 1)))"
   ]
  },
  {
   "cell_type": "markdown",
   "metadata": {},
   "source": [
    "OR Gate\n",
    "\n",
    "This gate receives two inputs and returns 1 if either one of the inputs is 1."
   ]
  },
  {
   "cell_type": "code",
   "execution_count": 8,
   "metadata": {},
   "outputs": [
    {
     "name": "stdout",
     "output_type": "stream",
     "text": [
      "A: 0, B: 0 | Output: 0\n",
      "A: 0, B: 1 | Output: 1\n",
      "A: 1, B: 0 | Output: 1\n",
      "A: 1, B: 1 | Output: 1\n"
     ]
    }
   ],
   "source": [
    "def OR_gate(a, b):\n",
    "  return NAND_gate(NOT_gate(a), NOT_gate(b))\n",
    "\n",
    "\n",
    "# Truth Table\n",
    "\n",
    "print(\"A: 0, B: 0 | Output: {0}\".format(OR_gate(0, 0)))\n",
    "print(\"A: 0, B: 1 | Output: {0}\".format(OR_gate(0, 1)))\n",
    "print(\"A: 1, B: 0 | Output: {0}\".format(OR_gate(1, 0)))\n",
    "print(\"A: 1, B: 1 | Output: {0}\".format(OR_gate(1, 1)))"
   ]
  },
  {
   "cell_type": "markdown",
   "metadata": {},
   "source": [
    "XOR Gate\n",
    "\n",
    "This gate receives two inputs, a and b, and only returns a 1 if one of the inputs is 1, but not if both of the inputs are 1."
   ]
  },
  {
   "cell_type": "code",
   "execution_count": 7,
   "metadata": {},
   "outputs": [
    {
     "name": "stdout",
     "output_type": "stream",
     "text": [
      "A: 0, B: 0 | Output: 0\n",
      "A: 0, B: 1 | Output: 1\n",
      "A: 1, B: 0 | Output: 1\n",
      "A: 1, B: 1 | Output: 0\n"
     ]
    }
   ],
   "source": [
    "def XOR_gate(a, b):\n",
    "  return AND_gate(NAND_gate(a, b), OR_gate(a, b))\n",
    "\n",
    "\n",
    "# Truth Table\n",
    "\n",
    "print(\"A: 0, B: 0 | Output: {0}\".format(XOR_gate(0, 0)))\n",
    "print(\"A: 0, B: 1 | Output: {0}\".format(XOR_gate(0, 1)))\n",
    "print(\"A: 1, B: 0 | Output: {0}\".format(XOR_gate(1, 0)))\n",
    "print(\"A: 1, B: 1 | Output: {0}\".format(XOR_gate(1, 1)))"
   ]
  },
  {
   "cell_type": "code",
   "execution_count": null,
   "metadata": {},
   "outputs": [],
   "source": []
  }
 ],
 "metadata": {
  "kernelspec": {
   "display_name": "base",
   "language": "python",
   "name": "python3"
  },
  "language_info": {
   "codemirror_mode": {
    "name": "ipython",
    "version": 3
   },
   "file_extension": ".py",
   "mimetype": "text/x-python",
   "name": "python",
   "nbconvert_exporter": "python",
   "pygments_lexer": "ipython3",
   "version": "3.11.5"
  }
 },
 "nbformat": 4,
 "nbformat_minor": 2
}
