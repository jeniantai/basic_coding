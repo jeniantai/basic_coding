{
 "cells": [
  {
   "cell_type": "code",
   "execution_count": null,
   "metadata": {},
   "outputs": [],
   "source": [
    "%load_ext autoreload\n",
    "%autoreload 2\n",
    "import sys, os\n",
    "parent = os.path.dirname(os.getcwd())\n",
    "sys.path.append(parent)\n",
    "from data_structure.linkedlist import LinkedList\n",
    "from algorithm.analyze_runtime_space import *\n",
    "from data_structure.queues_stacks_hashmaps import *"
   ]
  },
  {
   "cell_type": "code",
   "execution_count": null,
   "metadata": {},
   "outputs": [],
   "source": [
    "# TEST THE CODES\n",
    "\n",
    "# analyzing the runtime of various data structures\n",
    "ll = LinkedList(6)\n",
    "ll.insert_beginning(32)\n",
    "ll.insert_beginning(-12)\n",
    "ll.insert_beginning(48)\n",
    "ll.insert_beginning(2)\n",
    "ll.insert_beginning(1)\n",
    "print(\"The maximum value in this linked list is {0}\\n\".format(find_max(ll)))\n",
    "\n",
    "ll_2 = LinkedList(60)\n",
    "ll_2.insert_beginning(12)\n",
    "ll_2.insert_beginning(22)\n",
    "ll_2.insert_beginning(-10)\n",
    "print(\"The maximum value in this linked list is {0}\\n\".format(find_max(ll_2)))\n",
    "\n",
    "ll_3 = LinkedList(\"A\")\n",
    "ll_3.insert_beginning(\"X\")\n",
    "ll_3.insert_beginning(\"V\")\n",
    "ll_3.insert_beginning(\"L\")\n",
    "ll_3.insert_beginning(\"D\")\n",
    "ll_3.insert_beginning(\"Q\")\n",
    "print(\"The maximum value in this linked list is {0}\\n\".format(find_max(ll_3)))\n",
    "\n",
    "#Runtime\n",
    "runtime = \"N\"\n",
    "print(\"The runtime of find_max is O({0})\".format(runtime))"
   ]
  },
  {
   "cell_type": "code",
   "execution_count": null,
   "metadata": {},
   "outputs": [],
   "source": [
    "ll = LinkedList(\"Z\")\n",
    "ll.insert_beginning(\"C\")\n",
    "ll.insert_beginning(\"Q\")\n",
    "ll.insert_beginning(\"A\")\n",
    "print(\"The sorted linked list is:\\n{0}\".format(sort_linked_list(ll).stringify_list()))\n",
    "\n",
    "ll_2 = LinkedList(1)\n",
    "ll_2.insert_beginning(4)\n",
    "ll_2.insert_beginning(18)\n",
    "ll_2.insert_beginning(2)\n",
    "ll_2.insert_beginning(3)\n",
    "ll_2.insert_beginning(7)\n",
    "print(\"The sorted linked list is:\\n{0}\".format(sort_linked_list(ll_2).stringify_list()))\n",
    "\n",
    "ll_3 = LinkedList(-11)\n",
    "ll_3.insert_beginning(44)\n",
    "ll_3.insert_beginning(118)\n",
    "ll_3.insert_beginning(1000)\n",
    "ll_3.insert_beginning(23)\n",
    "ll_3.insert_beginning(-92)\n",
    "print(\"The sorted linked list is:\\n{0}\".format(sort_linked_list(ll_3).stringify_list()))\n",
    "\n",
    "#Runtime\n",
    "runtime = \"N^2\"\n",
    "print(\"The runtime of sort_linked_list is O({0})\\n\\n\".format(runtime))\n"
   ]
  },
  {
   "cell_type": "code",
   "execution_count": null,
   "metadata": {},
   "outputs": [],
   "source": [
    "N = 6\n",
    "\n",
    "my_stack = Stack(N)\n",
    "my_stack.push(\"Australia\")\n",
    "my_stack.push(\"India\")\n",
    "my_stack.push(\"Costa Rica\")\n",
    "my_stack.push(\"Peru\")\n",
    "my_stack.push(\"Ghana\")\n",
    "my_stack.push(\"Indonesia\")\n",
    "\n",
    "my_queue = Queue(N)\n",
    "my_queue.enqueue(\"Australia\")\n",
    "my_queue.enqueue(\"India\")\n",
    "my_queue.enqueue(\"Costa Rica\")\n",
    "my_queue.enqueue(\"Peru\")\n",
    "my_queue.enqueue(\"Ghana\")\n",
    "my_queue.enqueue(\"Indonesia\")\n",
    "\n",
    "#Print the first values in the stack and queue\n",
    "print(\"The top value in my stack is: {0}\".format(my_stack.peek()))\n",
    "print(\"The front value of my queue is: {0}\".format(my_queue.peek()))\n",
    "\n",
    "#Get First Value added to Queue\n",
    "first_value_added_to_queue =  my_queue.peek()\n",
    "print(\"\\nThe first value enqueued to the queue was {0}\".format(first_value_added_to_queue))\n",
    "queue_runtime = \"1\" \n",
    "print(\"The runtime of getting the front of the queue is O({0})\".format(queue_runtime))\n",
    "\n",
    "\n",
    "#Get First Value added to Stack\n",
    "while not my_stack.is_empty():\n",
    "  first_value_added_to_stack = my_stack.pop()\n",
    "\n",
    "\n",
    "print(\"\\nThe first value pushed onto the stack was {0}\".format(first_value_added_to_stack))\n",
    "stack_runtime = \"N\"\n",
    "print(\"The runtime of getting the bottom of the stack is O({0})\".format(stack_runtime))\n"
   ]
  },
  {
   "cell_type": "code",
   "execution_count": null,
   "metadata": {},
   "outputs": [],
   "source": [
    "N = 6\n",
    "\n",
    "#Insert Data Into HashMap\n",
    "my_hashmap = HashMap(N)\n",
    "my_hashmap.assign(\"Zachary\", \"Sunburn Sickness\")\n",
    "my_hashmap.assign(\"Elise\", \"Severe Nausea\")\n",
    "my_hashmap.assign(\"Mimi\", \"Stomach Flu\")\n",
    "my_hashmap.assign(\"Devan\", \"Malaria\")\n",
    "my_hashmap.assign(\"Gary\", \"Bacterial Meningitis\")\n",
    "my_hashmap.assign(\"Neeknaz\", \"Broken Cheekbone\")\n",
    "\n",
    "#Insert Data into LinkedList\n",
    "my_linked_list = LinkedList([\"Zachary\", \"Sunburn Sickness\"])\n",
    "my_linked_list.insert_beginning([\"Elise\", \"Severe Nausea\"])\n",
    "my_linked_list.insert_beginning([\"Mimi\", \"Stomach Flu\"])\n",
    "my_linked_list.insert_beginning([\"Devan\", \"Malaria\"])\n",
    "my_linked_list.insert_beginning([\"Gary\", \"Bacterial Meningitis\"])\n",
    "my_linked_list.insert_beginning([\"Neeknaz\", \"Broken Cheekbone\"])\n",
    "\n",
    "#Get Zachary's Disease from a HashMap\n",
    "hashmap_zachary_disease = my_hashmap.retrieve(\"Zachary\")\n",
    "print(\"Zachary's disease is {0}\".format(hashmap_zachary_disease))\n",
    "hashmap_runtime = \"1\"\n",
    "print(\"The runtime of retrieving a value from a hashmap is O({0})\\n\\n\".format(hashmap_runtime))\n",
    "\n",
    "\n",
    "#Get Zachary's Disease from a Linked List\n",
    "traverse = my_linked_list.get_head_node()\n",
    "while traverse.get_value()[0] != \"Zachary\":\n",
    "  traverse = traverse.get_next_node()\n",
    "linked_list_zachary_disease = traverse.get_value()[1]\n",
    "print(\"Zachary's disease is {0}\".format(linked_list_zachary_disease))\n",
    "linked_list_runtime = \"N\"\n",
    "print(\"The runtime of retrieving the first value added to a linked list is O({0})\\n\\n\".format(linked_list_runtime))"
   ]
  },
  {
   "cell_type": "code",
   "execution_count": null,
   "metadata": {},
   "outputs": [],
   "source": [
    "def mystery_function(mystery_list, target):\n",
    "  start_idx = 0\n",
    "  end_idx = len(mystery_list) - 1\n",
    "  \n",
    "  while start_idx <= end_idx:\n",
    "    mid = (start_idx + end_idx) // 2\n",
    "    mid_value = mystery_list[mid]\n",
    "    \n",
    "    if mid_value == target:\n",
    "      return mid\n",
    "    \n",
    "    if mid_value > target:\n",
    "      end_idx = mid - 1\n",
    "    else:\n",
    "      start_idx = mid + 1\n",
    "      \n",
    "  raise ValueError(\"{0} is not in list\".format(target))\n",
    "\n",
    "# the above mystery_function has a runtime of O(logN)\n"
   ]
  },
  {
   "cell_type": "code",
   "execution_count": null,
   "metadata": {},
   "outputs": [],
   "source": [
    "from recursion import *\n",
    "print(sum_to_one_iter(7))"
   ]
  },
  {
   "cell_type": "code",
   "execution_count": null,
   "metadata": {},
   "outputs": [],
   "source": [
    "# recursive\n",
    "print(sum_to_one_recur(7))"
   ]
  },
  {
   "cell_type": "code",
   "execution_count": null,
   "metadata": {},
   "outputs": [],
   "source": [
    "print(factorial(99))"
   ]
  },
  {
   "cell_type": "code",
   "execution_count": null,
   "metadata": {},
   "outputs": [],
   "source": [
    "factorial_iter(9)"
   ]
  },
  {
   "cell_type": "code",
   "execution_count": null,
   "metadata": {},
   "outputs": [],
   "source": [
    "universities = ['MIT', 'UCLA', 'Stanford', 'NYU']\n",
    "power_set_of_universities = power_set(universities)\n",
    "\n",
    "for set in power_set_of_universities:\n",
    "  print(set)"
   ]
  },
  {
   "cell_type": "code",
   "execution_count": null,
   "metadata": {},
   "outputs": [],
   "source": [
    "planets = ['mercury', 'venus', ['earth'], 'mars', [['jupiter', 'saturn']], 'uranus', ['neptune', 'pluto']]\n",
    "\n",
    "print(flatten(planets))"
   ]
  },
  {
   "cell_type": "code",
   "execution_count": null,
   "metadata": {},
   "outputs": [],
   "source": [
    "print(fibonacci(5))\n",
    "# fibonacci_runtime = \"2^N\""
   ]
  },
  {
   "cell_type": "code",
   "execution_count": null,
   "metadata": {},
   "outputs": [],
   "source": [
    "# with memorization\n",
    "print(fibonacci2(5))"
   ]
  },
  {
   "cell_type": "code",
   "execution_count": null,
   "metadata": {},
   "outputs": [],
   "source": [
    "sorted_list = [12, 13, 14, 15, 16]\n",
    "binary_search_tree = build_bst(sorted_list)\n",
    "print(binary_search_tree)"
   ]
  },
  {
   "cell_type": "markdown",
   "metadata": {},
   "source": [
    "N is the length of our input list.\n",
    "\n",
    "Our tree will be logN levels deep, meaning there will logN times where a new parent-child relationship is created.\n",
    "\n",
    "If we have an 8 element list, the tree is 3 levels deep: 2**3 == 8.\n",
    "\n",
    "Each recursive call is going to copy approximately N elements when the left and right halves of the list are passed to the recursive calls. We’re reducing by 1 each time (the middle_value), but that’s a constant factor.\n",
    "\n",
    "Putting that together, we have N elements being copied logN levels for a big O of N*logN."
   ]
  },
  {
   "cell_type": "code",
   "execution_count": null,
   "metadata": {},
   "outputs": [],
   "source": [
    "print(fibonacci1(3) == 2)\n",
    "print(fibonacci1(7) == 13)\n",
    "print(fibonacci1(0) == 0)"
   ]
  },
  {
   "cell_type": "code",
   "execution_count": null,
   "metadata": {},
   "outputs": [],
   "source": [
    "print(sum_digits2(12) == 3)\n",
    "print(sum_digits2(552) == 12)\n",
    "print(sum_digits2(123456789) == 45)"
   ]
  },
  {
   "cell_type": "code",
   "execution_count": null,
   "metadata": {},
   "outputs": [],
   "source": [
    "print(find_min2([42, 17, 2, -1, 67]) == -1)\n",
    "print(find_min2([]) == None)\n",
    "print(find_min2([13, 72, 19, 5, 86]) == 5)"
   ]
  },
  {
   "cell_type": "code",
   "execution_count": null,
   "metadata": {},
   "outputs": [],
   "source": [
    "print(is_palindrome3(\"abba\") == True)\n",
    "print(is_palindrome3(\"abcba\") == True)\n",
    "print(is_palindrome3(\"\") == True)\n",
    "print(is_palindrome3(\"abcd\") == False)"
   ]
  },
  {
   "cell_type": "code",
   "execution_count": null,
   "metadata": {},
   "outputs": [],
   "source": [
    "multiplication(3, 7)\n",
    "multiplication(5, 5)\n",
    "multiplication(0, 4)"
   ]
  },
  {
   "cell_type": "code",
   "execution_count": null,
   "metadata": {},
   "outputs": [],
   "source": [
    "print(multiplication1(3, 7) == 21)\n",
    "print(multiplication1(5, 5) == 25)\n",
    "print(multiplication1(0, 4) == 0)"
   ]
  },
  {
   "cell_type": "code",
   "execution_count": null,
   "metadata": {},
   "outputs": [],
   "source": [
    "two_level_tree = {\n",
    "\"data\": 6, \n",
    "\"left_child\":\n",
    "  {\"data\": 2}\n",
    "}\n",
    "\n",
    "four_level_tree = {\n",
    "\"data\": 54,\n",
    "\"right_child\":\n",
    "  {\"data\": 93,\n",
    "   \"left_child\":\n",
    "     {\"data\": 63,\n",
    "      \"left_child\":\n",
    "        {\"data\": 59}\n",
    "      }\n",
    "   }\n",
    "}\n",
    "\n",
    "\n",
    "depth(two_level_tree)\n",
    "\n",
    "depth(four_level_tree)"
   ]
  },
  {
   "cell_type": "code",
   "execution_count": null,
   "metadata": {},
   "outputs": [],
   "source": [
    "# HELPER VARIABLES\n",
    "tree_level_1 = build_bst([1])\n",
    "tree_level_2 = build_bst([1, 2, 3])\n",
    "tree_level_4 = build_bst([1, 2, 3, 4, 5, 6, 7, 8, 9, 10, 11, 12, 13]) \n",
    "\n",
    "# test cases\n",
    "print(depth2(tree_level_1) == 1)\n",
    "print(depth2(tree_level_2) == 2)\n",
    "print(depth2(tree_level_4) == 4)"
   ]
  },
  {
   "cell_type": "code",
   "execution_count": null,
   "metadata": {},
   "outputs": [],
   "source": []
  }
 ],
 "metadata": {
  "kernelspec": {
   "display_name": ".venv",
   "language": "python",
   "name": "python3"
  },
  "language_info": {
   "codemirror_mode": {
    "name": "ipython",
    "version": 3
   },
   "file_extension": ".py",
   "mimetype": "text/x-python",
   "name": "python",
   "nbconvert_exporter": "python",
   "pygments_lexer": "ipython3",
   "version": "3.11.5"
  },
  "orig_nbformat": 4
 },
 "nbformat": 4,
 "nbformat_minor": 2
}
