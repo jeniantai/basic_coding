{
 "cells": [
  {
   "cell_type": "code",
   "execution_count": 307,
   "metadata": {},
   "outputs": [
    {
     "name": "stdout",
     "output_type": "stream",
     "text": [
      "The autoreload extension is already loaded. To reload it, use:\n",
      "  %reload_ext autoreload\n"
     ]
    }
   ],
   "source": [
    "%load_ext autoreload\n",
    "%autoreload 2\n",
    "import sys, os\n",
    "parent = os.path.dirname(os.getcwd())\n",
    "sys.path.append(parent)\n",
    "from data_structure.linkedlist import LinkedList\n",
    "from analyze_runtime_space import *\n",
    "from data_structure.queues_stacks_hashmaps import *"
   ]
  },
  {
   "cell_type": "code",
   "execution_count": 308,
   "metadata": {},
   "outputs": [
    {
     "name": "stdout",
     "output_type": "stream",
     "text": [
      "--------------------------\n",
      "Finding the maximum value of:\n",
      "<head> \n",
      "1\n",
      "2\n",
      "48\n",
      "-12\n",
      "32\n",
      "6\n",
      "<tail>\n",
      "The maximum value in this linked list is 48\n",
      "\n",
      "--------------------------\n",
      "Finding the maximum value of:\n",
      "<head> \n",
      "-10\n",
      "22\n",
      "12\n",
      "60\n",
      "<tail>\n",
      "The maximum value in this linked list is 60\n",
      "\n",
      "--------------------------\n",
      "Finding the maximum value of:\n",
      "<head> \n",
      "Q\n",
      "D\n",
      "L\n",
      "V\n",
      "X\n",
      "A\n",
      "<tail>\n",
      "The maximum value in this linked list is X\n",
      "\n",
      "The runtime of find_max is O(N)\n"
     ]
    }
   ],
   "source": [
    "# TEST THE CODES\n",
    "\n",
    "# analyzing the runtime of various data structures\n",
    "ll = LinkedList(6)\n",
    "ll.insert_beginning(32)\n",
    "ll.insert_beginning(-12)\n",
    "ll.insert_beginning(48)\n",
    "ll.insert_beginning(2)\n",
    "ll.insert_beginning(1)\n",
    "print(\"The maximum value in this linked list is {0}\\n\".format(find_max(ll)))\n",
    "\n",
    "ll_2 = LinkedList(60)\n",
    "ll_2.insert_beginning(12)\n",
    "ll_2.insert_beginning(22)\n",
    "ll_2.insert_beginning(-10)\n",
    "print(\"The maximum value in this linked list is {0}\\n\".format(find_max(ll_2)))\n",
    "\n",
    "ll_3 = LinkedList(\"A\")\n",
    "ll_3.insert_beginning(\"X\")\n",
    "ll_3.insert_beginning(\"V\")\n",
    "ll_3.insert_beginning(\"L\")\n",
    "ll_3.insert_beginning(\"D\")\n",
    "ll_3.insert_beginning(\"Q\")\n",
    "print(\"The maximum value in this linked list is {0}\\n\".format(find_max(ll_3)))\n",
    "\n",
    "#Runtime\n",
    "runtime = \"N\"\n",
    "print(\"The runtime of find_max is O({0})\".format(runtime))"
   ]
  },
  {
   "cell_type": "code",
   "execution_count": 309,
   "metadata": {},
   "outputs": [
    {
     "name": "stdout",
     "output_type": "stream",
     "text": [
      "\n",
      "---------------------------\n",
      "The original linked list is:\n",
      "<head> \n",
      "A\n",
      "Q\n",
      "C\n",
      "Z\n",
      "<tail>\n",
      "--------------------------\n",
      "Finding the maximum value of:\n",
      "<head> \n",
      "A\n",
      "Q\n",
      "C\n",
      "Z\n",
      "<tail>\n",
      "--------------------------\n",
      "Finding the maximum value of:\n",
      "<head> \n",
      "A\n",
      "Q\n",
      "C\n",
      "<tail>\n",
      "--------------------------\n",
      "Finding the maximum value of:\n",
      "<head> \n",
      "A\n",
      "C\n",
      "<tail>\n",
      "--------------------------\n",
      "Finding the maximum value of:\n",
      "<head> \n",
      "A\n",
      "<tail>\n",
      "The sorted linked list is:\n",
      "<head> \n",
      "A\n",
      "C\n",
      "Q\n",
      "Z\n",
      "<tail>\n",
      "\n",
      "---------------------------\n",
      "The original linked list is:\n",
      "<head> \n",
      "7\n",
      "3\n",
      "2\n",
      "18\n",
      "4\n",
      "1\n",
      "<tail>\n",
      "--------------------------\n",
      "Finding the maximum value of:\n",
      "<head> \n",
      "7\n",
      "3\n",
      "2\n",
      "18\n",
      "4\n",
      "1\n",
      "<tail>\n",
      "--------------------------\n",
      "Finding the maximum value of:\n",
      "<head> \n",
      "7\n",
      "3\n",
      "2\n",
      "4\n",
      "1\n",
      "<tail>\n",
      "--------------------------\n",
      "Finding the maximum value of:\n",
      "<head> \n",
      "3\n",
      "2\n",
      "4\n",
      "1\n",
      "<tail>\n",
      "--------------------------\n",
      "Finding the maximum value of:\n",
      "<head> \n",
      "3\n",
      "2\n",
      "1\n",
      "<tail>\n",
      "--------------------------\n",
      "Finding the maximum value of:\n",
      "<head> \n",
      "2\n",
      "1\n",
      "<tail>\n",
      "--------------------------\n",
      "Finding the maximum value of:\n",
      "<head> \n",
      "1\n",
      "<tail>\n",
      "The sorted linked list is:\n",
      "<head> \n",
      "1\n",
      "2\n",
      "3\n",
      "4\n",
      "7\n",
      "18\n",
      "<tail>\n",
      "\n",
      "---------------------------\n",
      "The original linked list is:\n",
      "<head> \n",
      "-92\n",
      "23\n",
      "1000\n",
      "118\n",
      "44\n",
      "-11\n",
      "<tail>\n",
      "--------------------------\n",
      "Finding the maximum value of:\n",
      "<head> \n",
      "-92\n",
      "23\n",
      "1000\n",
      "118\n",
      "44\n",
      "-11\n",
      "<tail>\n",
      "--------------------------\n",
      "Finding the maximum value of:\n",
      "<head> \n",
      "-92\n",
      "23\n",
      "118\n",
      "44\n",
      "-11\n",
      "<tail>\n",
      "--------------------------\n",
      "Finding the maximum value of:\n",
      "<head> \n",
      "-92\n",
      "23\n",
      "44\n",
      "-11\n",
      "<tail>\n",
      "--------------------------\n",
      "Finding the maximum value of:\n",
      "<head> \n",
      "-92\n",
      "23\n",
      "-11\n",
      "<tail>\n",
      "--------------------------\n",
      "Finding the maximum value of:\n",
      "<head> \n",
      "-92\n",
      "-11\n",
      "<tail>\n",
      "--------------------------\n",
      "Finding the maximum value of:\n",
      "<head> \n",
      "-92\n",
      "<tail>\n",
      "The sorted linked list is:\n",
      "<head> \n",
      "-92\n",
      "-11\n",
      "23\n",
      "44\n",
      "118\n",
      "1000\n",
      "<tail>\n",
      "The runtime of sort_linked_list is O(N^2)\n",
      "\n",
      "\n"
     ]
    }
   ],
   "source": [
    "ll = LinkedList(\"Z\")\n",
    "ll.insert_beginning(\"C\")\n",
    "ll.insert_beginning(\"Q\")\n",
    "ll.insert_beginning(\"A\")\n",
    "print(\"The sorted linked list is:\\n{0}\".format(sort_linked_list(ll).stringify_list()))\n",
    "\n",
    "ll_2 = LinkedList(1)\n",
    "ll_2.insert_beginning(4)\n",
    "ll_2.insert_beginning(18)\n",
    "ll_2.insert_beginning(2)\n",
    "ll_2.insert_beginning(3)\n",
    "ll_2.insert_beginning(7)\n",
    "print(\"The sorted linked list is:\\n{0}\".format(sort_linked_list(ll_2).stringify_list()))\n",
    "\n",
    "ll_3 = LinkedList(-11)\n",
    "ll_3.insert_beginning(44)\n",
    "ll_3.insert_beginning(118)\n",
    "ll_3.insert_beginning(1000)\n",
    "ll_3.insert_beginning(23)\n",
    "ll_3.insert_beginning(-92)\n",
    "print(\"The sorted linked list is:\\n{0}\".format(sort_linked_list(ll_3).stringify_list()))\n",
    "\n",
    "#Runtime\n",
    "runtime = \"N^2\"\n",
    "print(\"The runtime of sort_linked_list is O({0})\\n\\n\".format(runtime))\n"
   ]
  },
  {
   "cell_type": "code",
   "execution_count": 310,
   "metadata": {},
   "outputs": [
    {
     "name": "stdout",
     "output_type": "stream",
     "text": [
      "Adding Australia to the queue!\n",
      "Adding India to the queue!\n",
      "Adding Costa Rica to the queue!\n",
      "Adding Peru to the queue!\n",
      "Adding Ghana to the queue!\n",
      "Adding Indonesia to the queue!\n",
      "The top value in my stack is: Indonesia\n",
      "The front value of my queue is: Australia\n",
      "\n",
      "The first value enqueued to the queue was Australia\n",
      "The runtime of getting the front of the queue is O(1)\n",
      "\n",
      "The first value pushed onto the stack was Australia\n",
      "The runtime of getting the bottom of the stack is O(N)\n"
     ]
    }
   ],
   "source": [
    "N = 6\n",
    "\n",
    "my_stack = Stack(N)\n",
    "my_stack.push(\"Australia\")\n",
    "my_stack.push(\"India\")\n",
    "my_stack.push(\"Costa Rica\")\n",
    "my_stack.push(\"Peru\")\n",
    "my_stack.push(\"Ghana\")\n",
    "my_stack.push(\"Indonesia\")\n",
    "\n",
    "my_queue = Queue(N)\n",
    "my_queue.enqueue(\"Australia\")\n",
    "my_queue.enqueue(\"India\")\n",
    "my_queue.enqueue(\"Costa Rica\")\n",
    "my_queue.enqueue(\"Peru\")\n",
    "my_queue.enqueue(\"Ghana\")\n",
    "my_queue.enqueue(\"Indonesia\")\n",
    "\n",
    "#Print the first values in the stack and queue\n",
    "print(\"The top value in my stack is: {0}\".format(my_stack.peek()))\n",
    "print(\"The front value of my queue is: {0}\".format(my_queue.peek()))\n",
    "\n",
    "#Get First Value added to Queue\n",
    "first_value_added_to_queue =  my_queue.peek()\n",
    "print(\"\\nThe first value enqueued to the queue was {0}\".format(first_value_added_to_queue))\n",
    "queue_runtime = \"1\" \n",
    "print(\"The runtime of getting the front of the queue is O({0})\".format(queue_runtime))\n",
    "\n",
    "\n",
    "#Get First Value added to Stack\n",
    "while not my_stack.is_empty():\n",
    "  first_value_added_to_stack = my_stack.pop()\n",
    "\n",
    "\n",
    "print(\"\\nThe first value pushed onto the stack was {0}\".format(first_value_added_to_stack))\n",
    "stack_runtime = \"N\"\n",
    "print(\"The runtime of getting the bottom of the stack is O({0})\".format(stack_runtime))\n"
   ]
  },
  {
   "cell_type": "code",
   "execution_count": 311,
   "metadata": {},
   "outputs": [
    {
     "name": "stdout",
     "output_type": "stream",
     "text": [
      "Zachary's disease is Sunburn Sickness\n",
      "The runtime of retrieving a value from a hashmap is O(1)\n",
      "\n",
      "\n",
      "Zachary's disease is Sunburn Sickness\n",
      "The runtime of retrieving the first value added to a linked list is O(N)\n",
      "\n",
      "\n"
     ]
    }
   ],
   "source": [
    "N = 6\n",
    "\n",
    "#Insert Data Into HashMap\n",
    "my_hashmap = HashMap(N)\n",
    "my_hashmap.assign(\"Zachary\", \"Sunburn Sickness\")\n",
    "my_hashmap.assign(\"Elise\", \"Severe Nausea\")\n",
    "my_hashmap.assign(\"Mimi\", \"Stomach Flu\")\n",
    "my_hashmap.assign(\"Devan\", \"Malaria\")\n",
    "my_hashmap.assign(\"Gary\", \"Bacterial Meningitis\")\n",
    "my_hashmap.assign(\"Neeknaz\", \"Broken Cheekbone\")\n",
    "\n",
    "#Insert Data into LinkedList\n",
    "my_linked_list = LinkedList([\"Zachary\", \"Sunburn Sickness\"])\n",
    "my_linked_list.insert_beginning([\"Elise\", \"Severe Nausea\"])\n",
    "my_linked_list.insert_beginning([\"Mimi\", \"Stomach Flu\"])\n",
    "my_linked_list.insert_beginning([\"Devan\", \"Malaria\"])\n",
    "my_linked_list.insert_beginning([\"Gary\", \"Bacterial Meningitis\"])\n",
    "my_linked_list.insert_beginning([\"Neeknaz\", \"Broken Cheekbone\"])\n",
    "\n",
    "#Get Zachary's Disease from a HashMap\n",
    "hashmap_zachary_disease = my_hashmap.retrieve(\"Zachary\")\n",
    "print(\"Zachary's disease is {0}\".format(hashmap_zachary_disease))\n",
    "hashmap_runtime = \"1\"\n",
    "print(\"The runtime of retrieving a value from a hashmap is O({0})\\n\\n\".format(hashmap_runtime))\n",
    "\n",
    "\n",
    "#Get Zachary's Disease from a Linked List\n",
    "traverse = my_linked_list.get_head_node()\n",
    "while traverse.get_value()[0] != \"Zachary\":\n",
    "  traverse = traverse.get_next_node()\n",
    "linked_list_zachary_disease = traverse.get_value()[1]\n",
    "print(\"Zachary's disease is {0}\".format(linked_list_zachary_disease))\n",
    "linked_list_runtime = \"N\"\n",
    "print(\"The runtime of retrieving the first value added to a linked list is O({0})\\n\\n\".format(linked_list_runtime))"
   ]
  },
  {
   "cell_type": "code",
   "execution_count": 312,
   "metadata": {},
   "outputs": [],
   "source": [
    "def mystery_function(mystery_list, target):\n",
    "  start_idx = 0\n",
    "  end_idx = len(mystery_list) - 1\n",
    "  \n",
    "  while start_idx <= end_idx:\n",
    "    mid = (start_idx + end_idx) // 2\n",
    "    mid_value = mystery_list[mid]\n",
    "    \n",
    "    if mid_value == target:\n",
    "      return mid\n",
    "    \n",
    "    if mid_value > target:\n",
    "      end_idx = mid - 1\n",
    "    else:\n",
    "      start_idx = mid + 1\n",
    "      \n",
    "  raise ValueError(\"{0} is not in list\".format(target))\n",
    "\n",
    "# the above mystery_function has a runtime of O(logN)\n"
   ]
  },
  {
   "cell_type": "code",
   "execution_count": 313,
   "metadata": {},
   "outputs": [
    {
     "name": "stdout",
     "output_type": "stream",
     "text": [
      "[{'n_value': 7}]\n",
      "[{'n_value': 7}, {'n_value': 6}]\n",
      "[{'n_value': 7}, {'n_value': 6}, {'n_value': 5}]\n",
      "[{'n_value': 7}, {'n_value': 6}, {'n_value': 5}, {'n_value': 4}]\n",
      "[{'n_value': 7}, {'n_value': 6}, {'n_value': 5}, {'n_value': 4}, {'n_value': 3}]\n",
      "[{'n_value': 7}, {'n_value': 6}, {'n_value': 5}, {'n_value': 4}, {'n_value': 3}, {'n_value': 2}]\n",
      "BASE CASE REACHED\n",
      "[{'n_value': 7}, {'n_value': 6}, {'n_value': 5}, {'n_value': 4}, {'n_value': 3}]\n",
      "Return value of 2 adding to result 1\n",
      "[{'n_value': 7}, {'n_value': 6}, {'n_value': 5}, {'n_value': 4}]\n",
      "Return value of 3 adding to result 3\n",
      "[{'n_value': 7}, {'n_value': 6}, {'n_value': 5}]\n",
      "Return value of 4 adding to result 6\n",
      "[{'n_value': 7}, {'n_value': 6}]\n",
      "Return value of 5 adding to result 10\n",
      "[{'n_value': 7}]\n",
      "Return value of 6 adding to result 15\n",
      "[]\n",
      "Return value of 7 adding to result 21\n",
      "(28, [])\n"
     ]
    }
   ],
   "source": [
    "from recursion import *\n",
    "print(sum_to_one_iter(7))"
   ]
  },
  {
   "cell_type": "code",
   "execution_count": 314,
   "metadata": {},
   "outputs": [
    {
     "name": "stdout",
     "output_type": "stream",
     "text": [
      "Recursing with input: 7\n",
      "Recursing with input: 6\n",
      "Recursing with input: 5\n",
      "Recursing with input: 4\n",
      "Recursing with input: 3\n",
      "Recursing with input: 2\n",
      "28\n"
     ]
    }
   ],
   "source": [
    "# recursive\n",
    "print(sum_to_one_recur(7))"
   ]
  },
  {
   "cell_type": "code",
   "execution_count": 315,
   "metadata": {},
   "outputs": [
    {
     "name": "stdout",
     "output_type": "stream",
     "text": [
      "933262154439441526816992388562667004907159682643816214685929638952175999932299156089414639761565182862536979208272237582511852109168640000000000000000000000\n"
     ]
    }
   ],
   "source": [
    "print(factorial(99))"
   ]
  },
  {
   "cell_type": "code",
   "execution_count": 316,
   "metadata": {},
   "outputs": [
    {
     "data": {
      "text/plain": [
       "362880"
      ]
     },
     "execution_count": 316,
     "metadata": {},
     "output_type": "execute_result"
    }
   ],
   "source": [
    "factorial_iter(9)"
   ]
  },
  {
   "cell_type": "code",
   "execution_count": 317,
   "metadata": {},
   "outputs": [
    {
     "name": "stdout",
     "output_type": "stream",
     "text": [
      "['MIT', 'UCLA', 'Stanford', 'NYU']\n",
      "['MIT', 'UCLA', 'Stanford']\n",
      "['MIT', 'UCLA', 'NYU']\n",
      "['MIT', 'UCLA']\n",
      "['MIT', 'Stanford', 'NYU']\n",
      "['MIT', 'Stanford']\n",
      "['MIT', 'NYU']\n",
      "['MIT']\n",
      "['UCLA', 'Stanford', 'NYU']\n",
      "['UCLA', 'Stanford']\n",
      "['UCLA', 'NYU']\n",
      "['UCLA']\n",
      "['Stanford', 'NYU']\n",
      "['Stanford']\n",
      "['NYU']\n",
      "[]\n"
     ]
    }
   ],
   "source": [
    "universities = ['MIT', 'UCLA', 'Stanford', 'NYU']\n",
    "power_set_of_universities = power_set(universities)\n",
    "\n",
    "for set in power_set_of_universities:\n",
    "  print(set)"
   ]
  },
  {
   "cell_type": "code",
   "execution_count": 318,
   "metadata": {},
   "outputs": [
    {
     "name": "stdout",
     "output_type": "stream",
     "text": [
      "List found!\n",
      "List found!\n",
      "List found!\n",
      "List found!\n",
      "['mercury', 'venus', 'earth', 'mars', 'jupiter', 'saturn', 'uranus', 'neptune', 'pluto']\n"
     ]
    }
   ],
   "source": [
    "planets = ['mercury', 'venus', ['earth'], 'mars', [['jupiter', 'saturn']], 'uranus', ['neptune', 'pluto']]\n",
    "\n",
    "print(flatten(planets))"
   ]
  },
  {
   "cell_type": "code",
   "execution_count": 319,
   "metadata": {},
   "outputs": [
    {
     "name": "stdout",
     "output_type": "stream",
     "text": [
      "Recursive call with 5 as input\n",
      "Recursive call with 4 as input\n",
      "Recursive call with 3 as input\n",
      "Recursive call with 2 as input\n",
      "Recursive call with 2 as input\n",
      "Recursive call with 3 as input\n",
      "Recursive call with 2 as input\n",
      "5\n"
     ]
    }
   ],
   "source": [
    "print(fibonacci(5))\n",
    "# fibonacci_runtime = \"2^N\""
   ]
  },
  {
   "cell_type": "code",
   "execution_count": 320,
   "metadata": {},
   "outputs": [
    {
     "name": "stdout",
     "output_type": "stream",
     "text": [
      "5\n"
     ]
    }
   ],
   "source": [
    "# with memorization\n",
    "print(fibonacci2(5))"
   ]
  },
  {
   "cell_type": "code",
   "execution_count": 321,
   "metadata": {},
   "outputs": [
    {
     "name": "stdout",
     "output_type": "stream",
     "text": [
      "Middle index: 2\n",
      "Middle value: 14\n",
      "Middle index: 1\n",
      "Middle value: 16\n",
      "Middle index: 0\n",
      "Middle value: 15\n",
      "Middle index: 1\n",
      "Middle value: 13\n",
      "Middle index: 0\n",
      "Middle value: 12\n",
      "{'data': 14, 'right_child': {'data': 16, 'right_child': None, 'left_child': {'data': 15, 'right_child': None, 'left_child': None}}, 'left_child': {'data': 13, 'right_child': None, 'left_child': {'data': 12, 'right_child': None, 'left_child': None}}}\n"
     ]
    }
   ],
   "source": [
    "sorted_list = [12, 13, 14, 15, 16]\n",
    "binary_search_tree = build_bst(sorted_list)\n",
    "print(binary_search_tree)"
   ]
  },
  {
   "cell_type": "markdown",
   "metadata": {},
   "source": [
    "N is the length of our input list.\n",
    "\n",
    "Our tree will be logN levels deep, meaning there will logN times where a new parent-child relationship is created.\n",
    "\n",
    "If we have an 8 element list, the tree is 3 levels deep: 2**3 == 8.\n",
    "\n",
    "Each recursive call is going to copy approximately N elements when the left and right halves of the list are passed to the recursive calls. We’re reducing by 1 each time (the middle_value), but that’s a constant factor.\n",
    "\n",
    "Putting that together, we have N elements being copied logN levels for a big O of N*logN."
   ]
  },
  {
   "cell_type": "code",
   "execution_count": 322,
   "metadata": {},
   "outputs": [
    {
     "name": "stdout",
     "output_type": "stream",
     "text": [
      "True\n",
      "True\n",
      "True\n"
     ]
    }
   ],
   "source": [
    "print(fibonacci1(3) == 2)\n",
    "print(fibonacci1(7) == 13)\n",
    "print(fibonacci1(0) == 0)"
   ]
  },
  {
   "cell_type": "code",
   "execution_count": 323,
   "metadata": {},
   "outputs": [
    {
     "name": "stdout",
     "output_type": "stream",
     "text": [
      "True\n",
      "True\n",
      "True\n"
     ]
    }
   ],
   "source": [
    "print(sum_digits2(12) == 3)\n",
    "print(sum_digits2(552) == 12)\n",
    "print(sum_digits2(123456789) == 45)"
   ]
  },
  {
   "cell_type": "code",
   "execution_count": 324,
   "metadata": {},
   "outputs": [
    {
     "name": "stdout",
     "output_type": "stream",
     "text": [
      "True\n",
      "True\n",
      "True\n"
     ]
    }
   ],
   "source": [
    "print(find_min2([42, 17, 2, -1, 67]) == -1)\n",
    "print(find_min2([]) == None)\n",
    "print(find_min2([13, 72, 19, 5, 86]) == 5)"
   ]
  },
  {
   "cell_type": "code",
   "execution_count": 325,
   "metadata": {},
   "outputs": [
    {
     "name": "stdout",
     "output_type": "stream",
     "text": [
      "True\n",
      "True\n",
      "True\n",
      "True\n"
     ]
    }
   ],
   "source": [
    "print(is_palindrome3(\"abba\") == True)\n",
    "print(is_palindrome3(\"abcba\") == True)\n",
    "print(is_palindrome3(\"\") == True)\n",
    "print(is_palindrome3(\"abcd\") == False)"
   ]
  },
  {
   "cell_type": "code",
   "execution_count": 326,
   "metadata": {},
   "outputs": [
    {
     "data": {
      "text/plain": [
       "0"
      ]
     },
     "execution_count": 326,
     "metadata": {},
     "output_type": "execute_result"
    }
   ],
   "source": [
    "multiplication(3, 7)\n",
    "multiplication(5, 5)\n",
    "multiplication(0, 4)"
   ]
  },
  {
   "cell_type": "code",
   "execution_count": 327,
   "metadata": {},
   "outputs": [
    {
     "name": "stdout",
     "output_type": "stream",
     "text": [
      "True\n",
      "True\n",
      "True\n"
     ]
    }
   ],
   "source": [
    "print(multiplication1(3, 7) == 21)\n",
    "print(multiplication1(5, 5) == 25)\n",
    "print(multiplication1(0, 4) == 0)"
   ]
  },
  {
   "cell_type": "code",
   "execution_count": 328,
   "metadata": {},
   "outputs": [
    {
     "data": {
      "text/plain": [
       "2"
      ]
     },
     "execution_count": 328,
     "metadata": {},
     "output_type": "execute_result"
    }
   ],
   "source": [
    "two_level_tree = {\n",
    "\"data\": 6, \n",
    "\"left_child\":\n",
    "  {\"data\": 2}\n",
    "}\n",
    "\n",
    "four_level_tree = {\n",
    "\"data\": 54,\n",
    "\"right_child\":\n",
    "  {\"data\": 93,\n",
    "   \"left_child\":\n",
    "     {\"data\": 63,\n",
    "      \"left_child\":\n",
    "        {\"data\": 59}\n",
    "      }\n",
    "   }\n",
    "}\n",
    "\n",
    "\n",
    "depth(two_level_tree)\n",
    "\n",
    "# depth(four_level_tree)"
   ]
  },
  {
   "cell_type": "code",
   "execution_count": 329,
   "metadata": {},
   "outputs": [
    {
     "name": "stdout",
     "output_type": "stream",
     "text": [
      "Middle index: 0\n",
      "Middle value: 1\n",
      "Middle index: 1\n",
      "Middle value: 2\n",
      "Middle index: 0\n",
      "Middle value: 3\n",
      "Middle index: 0\n",
      "Middle value: 1\n",
      "Middle index: 6\n",
      "Middle value: 7\n",
      "Middle index: 3\n",
      "Middle value: 11\n",
      "Middle index: 1\n",
      "Middle value: 13\n",
      "Middle index: 0\n",
      "Middle value: 12\n",
      "Middle index: 1\n",
      "Middle value: 9\n",
      "Middle index: 0\n",
      "Middle value: 10\n",
      "Middle index: 0\n",
      "Middle value: 8\n",
      "Middle index: 3\n",
      "Middle value: 4\n",
      "Middle index: 1\n",
      "Middle value: 6\n",
      "Middle index: 0\n",
      "Middle value: 5\n",
      "Middle index: 1\n",
      "Middle value: 2\n",
      "Middle index: 0\n",
      "Middle value: 3\n",
      "Middle index: 0\n",
      "Middle value: 1\n",
      "True\n",
      "True\n",
      "True\n"
     ]
    }
   ],
   "source": [
    "# HELPER VARIABLES\n",
    "tree_level_1 = build_bst([1])\n",
    "tree_level_2 = build_bst([1, 2, 3])\n",
    "tree_level_4 = build_bst([1, 2, 3, 4, 5, 6, 7, 8, 9, 10, 11, 12, 13]) \n",
    "\n",
    "# test cases\n",
    "print(depth2(tree_level_1) == 1)\n",
    "print(depth2(tree_level_2) == 2)\n",
    "print(depth2(tree_level_4) == 4)"
   ]
  },
  {
   "cell_type": "markdown",
   "metadata": {},
   "source": [
    "Define a function called move_to_end() that accepts two arguments: `lst` and `val`.\n",
    "\n",
    "The function should return a copy of lst with every instance of val moved to the end of the list.\n",
    "\n",
    "Example:\n",
    "\n",
    "- Input: `move_to_end([\"Amber\", \"Sapphire\", \"Amber\", \"Jade\"], “Amber”)`\n",
    "- Output: `[\"Sapphire\", \"Jade\", \"Amber\", \"Amber\"]`\n",
    "Hint: Use Python list slicing to quickly generate sub-lists. For example: lst[1:] is the sublist of lst containing every item except the first."
   ]
  },
  {
   "cell_type": "code",
   "execution_count": 330,
   "metadata": {},
   "outputs": [],
   "source": [
    "def move_to_end(lst, val):\n",
    "  result = []\n",
    "  if len(lst) == 0:\n",
    "    return []\n",
    "      \n",
    "  if lst[0] == val:\n",
    "    result += move_to_end(lst[1:], val)\n",
    "    result.append(lst[0])\n",
    "  else:\n",
    "    result.append(lst[0])\n",
    "    result += move_to_end(lst[1:], val)\n",
    "\n",
    "  return result"
   ]
  },
  {
   "cell_type": "code",
   "execution_count": 331,
   "metadata": {},
   "outputs": [
    {
     "name": "stdout",
     "output_type": "stream",
     "text": [
      "['Sapphire', 'Jade', 'Amber', 'Amber']\n"
     ]
    }
   ],
   "source": [
    "gemstones = [\"Amber\", \"Sapphire\", \"Amber\", \"Jade\"]\n",
    "print(move_to_end(gemstones, \"Amber\"))"
   ]
  },
  {
   "cell_type": "markdown",
   "metadata": {},
   "source": [
    "Define a function called remove_node() that takes in the following parameters:\n",
    "\n",
    "head - a node that acts as the head of a linked list\n",
    "i - an integer\n",
    "The function should remove the ith node of the linked list (index from 0) and return the modified head.\n",
    "\n",
    "Example:\n",
    "- Input: `remove_node(head = \"Amber\"->\"Sapphire\"->\"Jade\"->\"Pearl\", 1)`\n",
    "- Output: `head = \"Amber\"->\"Jade\"->\"Pearl\"`"
   ]
  },
  {
   "cell_type": "code",
   "execution_count": 332,
   "metadata": {},
   "outputs": [],
   "source": [
    "# Using this linkedlist to take in a list instead of value one by one\n",
    "class LinkedList_bylist:\n",
    "    def __init__(self, lst):\n",
    "        self.head = Node(lst[0])\n",
    "        current = self.head\n",
    "        for val in lst[1:]:\n",
    "            current.next_node = Node(val)\n",
    "            current = current.next_node\n",
    "    # def append(self, value):\n",
    "    #     temp = Node(value)\n",
    "    #     if self.head is None:\n",
    "    #         self.head = temp\n",
    "    #         return\n",
    "        \n",
    "    #     last = self.head\n",
    "    #     while last.next_node:\n",
    "    #         last = last.next_node\n",
    "    #     last.next_node = temp"
   ]
  },
  {
   "cell_type": "code",
   "execution_count": 333,
   "metadata": {},
   "outputs": [
    {
     "name": "stdout",
     "output_type": "stream",
     "text": [
      "['Amber', 'Jade', 'Pearl']\n"
     ]
    }
   ],
   "source": [
    "def remove_node(head, i):\n",
    "    if i < 0:\n",
    "        return head\n",
    "    if head is None:\n",
    "        return None\n",
    "    if i == 0:\n",
    "        return head.next_node\n",
    "\n",
    "    head.next_node = remove_node(head.next_node, i - 1)\n",
    "    return head\n",
    "\n",
    "gemstones = LinkedList_bylist([\"Amber\", \"Sapphire\", \"Jade\", \"Pearl\"])\n",
    "head = remove_node(gemstones.head, 1)\n",
    "\n",
    "print(head.flatten())"
   ]
  },
  {
   "cell_type": "markdown",
   "metadata": {},
   "source": [
    "Define the function called wrap_string() that accepts two arguments: string str and int n.\n",
    "\n",
    "The function should return a copy of str with n number of '<' and '>' prepended and appended to it, respectively.\n",
    "\n",
    "Example:\n",
    "- Input: `wrap_string(\"Pearl\", 3)`\n",
    "- Output: `\"<<<Pearl>>>\"`"
   ]
  },
  {
   "cell_type": "code",
   "execution_count": 334,
   "metadata": {},
   "outputs": [],
   "source": [
    "def wrap_string(str, n):\n",
    "  result = \"\"\n",
    "  if n <= 0:\n",
    "    return str\n",
    "  result += \"<\"\n",
    "  result += wrap_string(str, n-1)\n",
    "  result += \">\"\n",
    "\n",
    "  return result\n",
    "\n",
    "def wrap_string(str, n):\n",
    "  if n <= 0:\n",
    "    return str\n",
    "  wrap_str = wrap_string('<'+str+'>', n-1)\n",
    "  return wrap_str"
   ]
  },
  {
   "cell_type": "code",
   "execution_count": 335,
   "metadata": {},
   "outputs": [
    {
     "name": "stdout",
     "output_type": "stream",
     "text": [
      "<<<Pearl>>>\n"
     ]
    }
   ],
   "source": [
    "wrapped = wrap_string(\"Pearl\", 3)\n",
    "print(wrapped)"
   ]
  },
  {
   "cell_type": "code",
   "execution_count": 336,
   "metadata": {},
   "outputs": [],
   "source": [
    "from bruteforce import *"
   ]
  },
  {
   "cell_type": "code",
   "execution_count": 337,
   "metadata": {},
   "outputs": [
    {
     "name": "stdout",
     "output_type": "stream",
     "text": [
      "Input Text: HAYHAYNEEDLEHAYHAYHAYNEEDLEHAYHAYHAYHAYNEEDLE Input Pattern: NEEDLE\n",
      "Text Index: 0\n",
      "Pattern Index: 0\n",
      "Text Index: 1\n",
      "Pattern Index: 0\n",
      "Text Index: 2\n",
      "Pattern Index: 0\n",
      "Text Index: 3\n",
      "Pattern Index: 0\n",
      "Text Index: 4\n",
      "Pattern Index: 0\n",
      "Text Index: 5\n",
      "Pattern Index: 0\n",
      "Text Index: 6\n",
      "Pattern Index: 0\n",
      "Matching index found\n",
      "Match Count: 0\n",
      "Pattern Index: 1\n",
      "Matching index found\n",
      "Match Count: 1\n",
      "Pattern Index: 2\n",
      "Matching index found\n",
      "Match Count: 2\n",
      "Pattern Index: 3\n",
      "Matching index found\n",
      "Match Count: 3\n",
      "Pattern Index: 4\n",
      "Matching index found\n",
      "Match Count: 4\n",
      "Pattern Index: 5\n",
      "Matching index found\n",
      "Match Count: 5\n",
      "NEEDLE found at index 6\n",
      "Text Index: 7\n",
      "Pattern Index: 0\n",
      "Text Index: 8\n",
      "Pattern Index: 0\n",
      "Text Index: 9\n",
      "Pattern Index: 0\n",
      "Text Index: 10\n",
      "Pattern Index: 0\n",
      "Text Index: 11\n",
      "Pattern Index: 0\n",
      "Text Index: 12\n",
      "Pattern Index: 0\n",
      "Text Index: 13\n",
      "Pattern Index: 0\n",
      "Text Index: 14\n",
      "Pattern Index: 0\n",
      "Text Index: 15\n",
      "Pattern Index: 0\n",
      "Text Index: 16\n",
      "Pattern Index: 0\n",
      "Text Index: 17\n",
      "Pattern Index: 0\n",
      "Text Index: 18\n",
      "Pattern Index: 0\n",
      "Text Index: 19\n",
      "Pattern Index: 0\n",
      "Text Index: 20\n",
      "Pattern Index: 0\n",
      "Text Index: 21\n",
      "Pattern Index: 0\n",
      "Matching index found\n",
      "Match Count: 0\n",
      "Pattern Index: 1\n",
      "Matching index found\n",
      "Match Count: 1\n",
      "Pattern Index: 2\n",
      "Matching index found\n",
      "Match Count: 2\n",
      "Pattern Index: 3\n",
      "Matching index found\n",
      "Match Count: 3\n",
      "Pattern Index: 4\n",
      "Matching index found\n",
      "Match Count: 4\n",
      "Pattern Index: 5\n",
      "Matching index found\n",
      "Match Count: 5\n",
      "NEEDLE found at index 21\n",
      "Text Index: 22\n",
      "Pattern Index: 0\n",
      "Text Index: 23\n",
      "Pattern Index: 0\n",
      "Text Index: 24\n",
      "Pattern Index: 0\n",
      "Text Index: 25\n",
      "Pattern Index: 0\n",
      "Text Index: 26\n",
      "Pattern Index: 0\n",
      "Text Index: 27\n",
      "Pattern Index: 0\n",
      "Text Index: 28\n",
      "Pattern Index: 0\n",
      "Text Index: 29\n",
      "Pattern Index: 0\n",
      "Text Index: 30\n",
      "Pattern Index: 0\n",
      "Text Index: 31\n",
      "Pattern Index: 0\n",
      "Text Index: 32\n",
      "Pattern Index: 0\n",
      "Text Index: 33\n",
      "Pattern Index: 0\n",
      "Text Index: 34\n",
      "Pattern Index: 0\n",
      "Text Index: 35\n",
      "Pattern Index: 0\n",
      "Text Index: 36\n",
      "Pattern Index: 0\n",
      "Text Index: 37\n",
      "Pattern Index: 0\n",
      "Text Index: 38\n",
      "Pattern Index: 0\n",
      "Text Index: 39\n",
      "Pattern Index: 0\n",
      "Matching index found\n",
      "Match Count: 0\n",
      "Pattern Index: 1\n",
      "Matching index found\n",
      "Match Count: 1\n",
      "Pattern Index: 2\n",
      "Matching index found\n",
      "Match Count: 2\n",
      "Pattern Index: 3\n",
      "Matching index found\n",
      "Match Count: 3\n",
      "Pattern Index: 4\n",
      "Matching index found\n",
      "Match Count: 4\n",
      "Pattern Index: 5\n",
      "Matching index found\n",
      "Match Count: 5\n",
      "NEEDLE found at index 39\n",
      "Text Index: 40\n",
      "Pattern Index: 0\n",
      "Text Index: 41\n",
      "Pattern Index: 0\n",
      "Text Index: 42\n",
      "Pattern Index: 0\n",
      "Text Index: 43\n",
      "Pattern Index: 0\n",
      "Text Index: 44\n",
      "Pattern Index: 0\n"
     ]
    }
   ],
   "source": [
    "text = \"HAYHAYNEEDLEHAYHAYHAYNEEDLEHAYHAYHAYHAYNEEDLE\"\n",
    "pattern = \"NEEDLE\"\n",
    "# Invoke pattern_search\n",
    "pattern_search(text, pattern)"
   ]
  },
  {
   "cell_type": "code",
   "execution_count": 338,
   "metadata": {},
   "outputs": [
    {
     "name": "stdout",
     "output_type": "stream",
     "text": [
      "Language found at index 22\n",
      "pylhon found at index 0\n",
      "pylhon found at index 235\n",
      "idil found at index 152\n"
     ]
    }
   ],
   "source": [
    "friends_intro = \"Pylhon is a wonderful Language that zzz is beloved for its ease zzz of use and simple syntacs. While zzz at some times the performance can be less than iDil, by properly zzz utilizing built-in libraries and other languuUuage features, pylhon's performance zzz can approach that of C.\"\n",
    "pattern_search2(friends_intro, \"Language\")\n",
    "pattern_search2(friends_intro, \"pylhon\", False)\n",
    "pattern_search2(friends_intro, \"idil\", False)"
   ]
  },
  {
   "cell_type": "code",
   "execution_count": 339,
   "metadata": {},
   "outputs": [
    {
     "name": "stdout",
     "output_type": "stream",
     "text": [
      "Language found at index 22\n",
      "pylhon found at index 0\n",
      "pylhon found at index 235\n",
      "idil found at index 152\n",
      "syntacs found at index 86\n",
      "languuUuage found at index 213\n"
     ]
    },
    {
     "data": {
      "text/plain": [
       "\"Pylhon is a wonderful Language that zzz is beloved for its ease zzz of use and simple syntacs. While zzz at some times the performance can be less than iDil, by properly zzz utilizing built-in libraries and other language features, pylhon's performance zzz can approach that of C.\""
      ]
     },
     "execution_count": 339,
     "metadata": {},
     "output_type": "execute_result"
    }
   ],
   "source": [
    "friends_intro = \"Pylhon is a wonderful Language that zzz is beloved for its ease zzz of use and simple syntacs. While zzz at some times the performance can be less than iDil, by properly zzz utilizing built-in libraries and other languuUuage features, pylhon's performance zzz can approach that of C.\"\n",
    "pattern_search3(friends_intro, \"Language\", \"language\")\n",
    "pattern_search3(friends_intro, \"pylhon\", \"Python\", False)\n",
    "pattern_search3(friends_intro, \"idil\", \"ideal\", False)\n",
    "pattern_search3(friends_intro, \"syntacs\", \"syntax\")\n",
    "pattern_search3(friends_intro, \"languuUuage\", \"language\")"
   ]
  },
  {
   "cell_type": "code",
   "execution_count": 340,
   "metadata": {},
   "outputs": [
    {
     "name": "stdout",
     "output_type": "stream",
     "text": [
      "zzz  found at index 36\n",
      "zzz  found at index 64\n",
      "zzz  found at index 101\n",
      "zzz  found at index 170\n",
      "zzz  found at index 256\n"
     ]
    },
    {
     "data": {
      "text/plain": [
       "\"Pylhon is a wonderful Language that is beloved for its ease of use and simple syntacs. While at some times the performance can be less than iDil, by properly utilizing built-in libraries and other languuUuage features, pylhon's performance can approach that of C.\""
      ]
     },
     "execution_count": 340,
     "metadata": {},
     "output_type": "execute_result"
    }
   ],
   "source": [
    "pattern_search3(friends_intro, \"zzz \", \"\")"
   ]
  },
  {
   "cell_type": "code",
   "execution_count": 341,
   "metadata": {},
   "outputs": [
    {
     "name": "stdout",
     "output_type": "stream",
     "text": [
      "2 not in list\n"
     ]
    }
   ],
   "source": [
    "values = [54, 22, 46, 99]\n",
    "try:\n",
    "    print(linear_search(values, 2))\n",
    "except ValueError as e:\n",
    "    print('{}'.format(e))"
   ]
  },
  {
   "cell_type": "code",
   "execution_count": 342,
   "metadata": {},
   "outputs": [
    {
     "ename": "NameError",
     "evalue": "name 'linear_search_all' is not defined",
     "output_type": "error",
     "traceback": [
      "\u001b[1;31m---------------------------------------------------------------------------\u001b[0m",
      "\u001b[1;31mNameError\u001b[0m                                 Traceback (most recent call last)",
      "\u001b[1;32mc:\\Users\\Jenian\\Desktop\\github\\coding_practice\\algorithm\\test_algo.ipynb Cell 40\u001b[0m line \u001b[0;36m4\n\u001b[0;32m      <a href='vscode-notebook-cell:/c%3A/Users/Jenian/Desktop/github/coding_practice/algorithm/test_algo.ipynb#X64sZmlsZQ%3D%3D?line=0'>1</a>\u001b[0m tour_locations \u001b[39m=\u001b[39m [ \u001b[39m\"\u001b[39m\u001b[39mNew York City\u001b[39m\u001b[39m\"\u001b[39m, \u001b[39m\"\u001b[39m\u001b[39mLos Angeles\u001b[39m\u001b[39m\"\u001b[39m, \u001b[39m\"\u001b[39m\u001b[39mBangkok\u001b[39m\u001b[39m\"\u001b[39m, \u001b[39m\"\u001b[39m\u001b[39mIstanbul\u001b[39m\u001b[39m\"\u001b[39m, \u001b[39m\"\u001b[39m\u001b[39mLondon\u001b[39m\u001b[39m\"\u001b[39m, \u001b[39m\"\u001b[39m\u001b[39mNew York City\u001b[39m\u001b[39m\"\u001b[39m, \u001b[39m\"\u001b[39m\u001b[39mToronto\u001b[39m\u001b[39m\"\u001b[39m]\n\u001b[0;32m      <a href='vscode-notebook-cell:/c%3A/Users/Jenian/Desktop/github/coding_practice/algorithm/test_algo.ipynb#X64sZmlsZQ%3D%3D?line=1'>2</a>\u001b[0m target_city \u001b[39m=\u001b[39m \u001b[39m\"\u001b[39m\u001b[39mNew York City\u001b[39m\u001b[39m\"\u001b[39m\n\u001b[1;32m----> <a href='vscode-notebook-cell:/c%3A/Users/Jenian/Desktop/github/coding_practice/algorithm/test_algo.ipynb#X64sZmlsZQ%3D%3D?line=3'>4</a>\u001b[0m tour_stops \u001b[39m=\u001b[39m linear_search_all(tour_locations, target_city)\n\u001b[0;32m      <a href='vscode-notebook-cell:/c%3A/Users/Jenian/Desktop/github/coding_practice/algorithm/test_algo.ipynb#X64sZmlsZQ%3D%3D?line=4'>5</a>\u001b[0m \u001b[39mprint\u001b[39m(tour_stops)\n",
      "\u001b[1;31mNameError\u001b[0m: name 'linear_search_all' is not defined"
     ]
    }
   ],
   "source": [
    "tour_locations = [ \"New York City\", \"Los Angeles\", \"Bangkok\", \"Istanbul\", \"London\", \"New York City\", \"Toronto\"]\n",
    "target_city = \"New York City\"\n",
    "\n",
    "tour_stops = linear_search_all(tour_locations, target_city)\n",
    "print(tour_stops)"
   ]
  },
  {
   "cell_type": "code",
   "execution_count": 343,
   "metadata": {},
   "outputs": [
    {
     "ename": "NameError",
     "evalue": "name 'linear_search_max' is not defined",
     "output_type": "error",
     "traceback": [
      "\u001b[1;31m---------------------------------------------------------------------------\u001b[0m",
      "\u001b[1;31mNameError\u001b[0m                                 Traceback (most recent call last)",
      "\u001b[1;32mc:\\Users\\Jenian\\Desktop\\github\\coding_practice\\algorithm\\test_algo.ipynb Cell 41\u001b[0m line \u001b[0;36m2\n\u001b[0;32m      <a href='vscode-notebook-cell:/c%3A/Users/Jenian/Desktop/github/coding_practice/algorithm/test_algo.ipynb#X66sZmlsZQ%3D%3D?line=0'>1</a>\u001b[0m test_scores \u001b[39m=\u001b[39m [\u001b[39m88\u001b[39m, \u001b[39m93\u001b[39m, \u001b[39m75\u001b[39m, \u001b[39m100\u001b[39m, \u001b[39m80\u001b[39m, \u001b[39m67\u001b[39m, \u001b[39m71\u001b[39m, \u001b[39m92\u001b[39m, \u001b[39m90\u001b[39m, \u001b[39m83\u001b[39m]\n\u001b[1;32m----> <a href='vscode-notebook-cell:/c%3A/Users/Jenian/Desktop/github/coding_practice/algorithm/test_algo.ipynb#X66sZmlsZQ%3D%3D?line=1'>2</a>\u001b[0m highest_score \u001b[39m=\u001b[39m linear_search_max(test_scores)\n\u001b[0;32m      <a href='vscode-notebook-cell:/c%3A/Users/Jenian/Desktop/github/coding_practice/algorithm/test_algo.ipynb#X66sZmlsZQ%3D%3D?line=2'>3</a>\u001b[0m \u001b[39mprint\u001b[39m(highest_score)\n",
      "\u001b[1;31mNameError\u001b[0m: name 'linear_search_max' is not defined"
     ]
    }
   ],
   "source": [
    "test_scores = [88, 93, 75, 100, 80, 67, 71, 92, 90, 83]\n",
    "highest_score = linear_search_max(test_scores)\n",
    "print(highest_score)"
   ]
  },
  {
   "cell_type": "code",
   "execution_count": null,
   "metadata": {},
   "outputs": [],
   "source": []
  }
 ],
 "metadata": {
  "kernelspec": {
   "display_name": ".venv",
   "language": "python",
   "name": "python3"
  },
  "language_info": {
   "codemirror_mode": {
    "name": "ipython",
    "version": 3
   },
   "file_extension": ".py",
   "mimetype": "text/x-python",
   "name": "python",
   "nbconvert_exporter": "python",
   "pygments_lexer": "ipython3",
   "version": "3.11.5"
  },
  "orig_nbformat": 4
 },
 "nbformat": 4,
 "nbformat_minor": 2
}
