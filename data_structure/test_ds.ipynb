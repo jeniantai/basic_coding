{
 "cells": [
  {
   "cell_type": "code",
   "execution_count": 15,
   "metadata": {},
   "outputs": [
    {
     "name": "stdout",
     "output_type": "stream",
     "text": [
      "Once upon a time...\n",
      "grg\n",
      "\n",
      "You are in a forest clearing. There is a path to the left.\n",
      "A bear emerges from the trees and roars!\n",
      "Do you: \n",
      "1 ) Roar back!\n",
      "2 ) Run to the left...\n",
      "\n",
      "\n",
      "The bear is startled and runs away.\n",
      "Do you:\n",
      "1 ) Shout 'Sorry bear!'\n",
      "2 ) Yell 'Hooray!'\n",
      "\n",
      "\n",
      "The bear returns and tells you that bullying is not okay before leaving you alone\n",
      "in the wilderness.\n",
      "\n",
      "YOU REMAIN LOST.\n",
      "\n",
      "The autoreload extension is already loaded. To reload it, use:\n",
      "  %reload_ext autoreload\n"
     ]
    }
   ],
   "source": [
    "%load_ext autoreload\n",
    "%autoreload 2\n",
    "\n",
    "import sys, os\n",
    "parent = os.path.dirname(os.getcwd())\n",
    "sys.path.append(parent)\n",
    "from linkedlist import *\n",
    "from queues_stacks_hashmaps import Queue, Stack, HashMap, HashMap_LL"
   ]
  },
  {
   "cell_type": "code",
   "execution_count": 16,
   "metadata": {},
   "outputs": [
    {
     "name": "stdout",
     "output_type": "stream",
     "text": [
      "enjoys spending time in movie lots\n",
      "has a penchant for hoarding snacks\n"
     ]
    }
   ],
   "source": [
    "# TEST THE CODES\n",
    "\n",
    "## Relationship between data is built.\n",
    "yacko = Node(\"likes to yak\")\n",
    "wacko = Node(\"has a penchant for hoarding snacks\")\n",
    "dot = Node(\"enjoys spending time in movie lots\")\n",
    "\n",
    "## Give these nodes some responsibilities!\n",
    "yacko.set_next_node(dot)\n",
    "dot.set_next_node(wacko)\n",
    "\n",
    "dots_data = yacko.get_next_node().get_value()\n",
    "wackos_data = dot.get_next_node().get_value()\n",
    "print(dots_data)\n",
    "print(wackos_data)\n",
    "\n",
    "## Since the nodes use links to denote the next node in the sequence, \n",
    "## the nodes are not required to be sequentially located in memory! \n"
   ]
  },
  {
   "cell_type": "code",
   "execution_count": 17,
   "metadata": {},
   "outputs": [
    {
     "name": "stdout",
     "output_type": "stream",
     "text": [
      "<head> \n",
      "90\n",
      "5675\n",
      "70\n",
      "5\n",
      "<tail>\n",
      "<head> \n",
      "9\n",
      "8\n",
      "7\n",
      "6\n",
      "5\n",
      "4\n",
      "3\n",
      "2\n",
      "1\n",
      "0\n",
      "<tail>\n",
      "Swapping 9 with 5\n",
      "<head> \n",
      "5\n",
      "8\n",
      "7\n",
      "6\n",
      "9\n",
      "4\n",
      "3\n",
      "2\n",
      "1\n",
      "0\n",
      "<tail>\n",
      "<head> \n",
      "1\n",
      "2\n",
      "3\n",
      "4\n",
      "5\n",
      "6\n",
      "7\n",
      "8\n",
      "9\n",
      "10\n",
      "11\n",
      "12\n",
      "13\n",
      "14\n",
      "15\n",
      "16\n",
      "17\n",
      "18\n",
      "19\n",
      "20\n",
      "21\n",
      "22\n",
      "23\n",
      "24\n",
      "25\n",
      "26\n",
      "27\n",
      "28\n",
      "29\n",
      "30\n",
      "31\n",
      "32\n",
      "33\n",
      "34\n",
      "35\n",
      "36\n",
      "37\n",
      "38\n",
      "39\n",
      "40\n",
      "41\n",
      "42\n",
      "43\n",
      "44\n",
      "45\n",
      "46\n",
      "47\n",
      "48\n",
      "49\n",
      "50\n",
      "<tail>\n",
      "47\n",
      "<head> \n",
      "1\n",
      "2\n",
      "3\n",
      "4\n",
      "5\n",
      "6\n",
      "7\n",
      "<tail>\n",
      "4\n"
     ]
    }
   ],
   "source": [
    "## Test LinkedList class\n",
    "ll = LinkedList(5)\n",
    "ll.insert_beginning(70)\n",
    "ll.insert_beginning(5675)\n",
    "ll.insert_beginning(90)\n",
    "print(ll.stringify_list())\n",
    "\n",
    "ll_swap = LinkedList()\n",
    "for i in range(10):\n",
    "  ll_swap.insert_beginning(i)\n",
    "\n",
    "print(ll_swap.stringify_list())\n",
    "swap_nodes(ll_swap, 9, 5)\n",
    "print(ll_swap.stringify_list())\n",
    "\n",
    "def generate_test_linked_list():\n",
    "  linked_list = LinkedList()\n",
    "  for i in range(50, 0, -1):\n",
    "    linked_list.insert_beginning(i)\n",
    "  return linked_list\n",
    "\n",
    "test_list = generate_test_linked_list()\n",
    "print(test_list.stringify_list())\n",
    "nth_last = nth_last_node(test_list, 4)\n",
    "print(nth_last.value)\n",
    "\n",
    "def generate_test_linked_list(length):\n",
    "  linked_list = LinkedList()\n",
    "  for i in range(length, 0, -1):\n",
    "    linked_list.insert_beginning(i)\n",
    "  return linked_list\n",
    "\n",
    "test_list = generate_test_linked_list(7)\n",
    "print(test_list.stringify_list())\n",
    "middle_node = find_middle(test_list)\n",
    "print(middle_node.value)"
   ]
  },
  {
   "cell_type": "code",
   "execution_count": 18,
   "metadata": {},
   "outputs": [
    {
     "name": "stdout",
     "output_type": "stream",
     "text": [
      "Central Park\n",
      "Grand Central\n",
      "Times Square\n",
      "\n",
      "Central Park\n",
      "Grand Central\n",
      "Times Square\n",
      "Penn Station\n",
      "Wall Street\n",
      "Brooklyn Bridge\n",
      "\n",
      "Grand Central\n",
      "Times Square\n",
      "Penn Station\n",
      "Wall Street\n",
      "\n",
      "Grand Central\n",
      "Penn Station\n",
      "Wall Street\n",
      "\n"
     ]
    }
   ],
   "source": [
    "## Test DoublyLinkedList class\n",
    "subway = DoublyLinkedList()\n",
    "subway.add_to_head('Times Square')\n",
    "subway.add_to_head('Grand Central')\n",
    "subway.add_to_head('Central Park')\n",
    "print(subway.stringify_list())\n",
    "\n",
    "subway.add_to_tail('Penn Station')\n",
    "subway.add_to_tail('Wall Street')\n",
    "subway.add_to_tail('Brooklyn Bridge')\n",
    "print(subway.stringify_list())\n",
    "\n",
    "subway.remove_head()\n",
    "subway.remove_tail()\n",
    "print(subway.stringify_list())\n",
    "\n",
    "subway.remove_by_value('Times Square')\n",
    "print(subway.stringify_list())\n"
   ]
  },
  {
   "cell_type": "code",
   "execution_count": 19,
   "metadata": {},
   "outputs": [
    {
     "name": "stdout",
     "output_type": "stream",
     "text": [
      "Creating a deli line with up to 10 orders...\n",
      "------------\n",
      "Adding orders to our deli line...\n",
      "------------\n",
      "Adding egg and cheese on a roll to the queue!\n",
      "Adding bacon, egg, and cheese on a roll to the queue!\n",
      "Adding toasted sesame bagel with butter and jelly to the queue!\n",
      "Adding toasted roll with butter to the queue!\n",
      "Adding bacon, egg, and cheese on a plain bagel to the queue!\n",
      "Adding two fried eggs with home fries and ketchup to the queue!\n",
      "Adding egg and cheese on a roll with jalapeos to the queue!\n",
      "Adding plain bagel with plain cream cheese to the queue!\n",
      "Adding blueberry muffin toasted with butter to the queue!\n",
      "Adding bacon, egg, and cheese on a roll to the queue!\n",
      "Sorry, no more room!\n",
      "------------\n",
      "Our first order will be egg and cheese on a roll\n",
      "------------\n",
      "Now serving...\n",
      "------------\n",
      "Removing egg and cheese on a roll from the queue!\n",
      "Removing bacon, egg, and cheese on a roll from the queue!\n",
      "Removing toasted sesame bagel with butter and jelly from the queue!\n",
      "Removing toasted roll with butter from the queue!\n",
      "Removing bacon, egg, and cheese on a plain bagel from the queue!\n",
      "Removing two fried eggs with home fries and ketchup from the queue!\n",
      "Removing egg and cheese on a roll with jalapeos from the queue!\n",
      "Removing plain bagel with plain cream cheese from the queue!\n",
      "Removing blueberry muffin toasted with butter from the queue!\n",
      "Removing bacon, egg, and cheese on a roll from the queue!\n",
      "This queue is totally empty!\n"
     ]
    }
   ],
   "source": [
    "## Test Queue class\n",
    "print(\"Creating a deli line with up to 10 orders...\\n------------\")\n",
    "deli_line = Queue(10)\n",
    "print(\"Adding orders to our deli line...\\n------------\")\n",
    "deli_line.enqueue(\"egg and cheese on a roll\")\n",
    "deli_line.enqueue(\"bacon, egg, and cheese on a roll\")\n",
    "deli_line.enqueue(\"toasted sesame bagel with butter and jelly\")\n",
    "deli_line.enqueue(\"toasted roll with butter\")\n",
    "deli_line.enqueue(\"bacon, egg, and cheese on a plain bagel\")\n",
    "deli_line.enqueue(\"two fried eggs with home fries and ketchup\")\n",
    "deli_line.enqueue(\"egg and cheese on a roll with jalapeos\")\n",
    "deli_line.enqueue(\"plain bagel with plain cream cheese\")\n",
    "deli_line.enqueue(\"blueberry muffin toasted with butter\")\n",
    "deli_line.enqueue(\"bacon, egg, and cheese on a roll\")\n",
    "deli_line.enqueue(\"western omelet with home fries\")\n",
    "# ------------------------ #\n",
    "print(\"------------\\nOur first order will be \" + deli_line.peek())\n",
    "print(\"------------\\nNow serving...\\n------------\")\n",
    "deli_line.dequeue()\n",
    "deli_line.dequeue()\n",
    "deli_line.dequeue()\n",
    "deli_line.dequeue()\n",
    "deli_line.dequeue()\n",
    "deli_line.dequeue()\n",
    "deli_line.dequeue()\n",
    "deli_line.dequeue()\n",
    "deli_line.dequeue()\n",
    "deli_line.dequeue()\n",
    "# ------------------------ #\n",
    "deli_line.dequeue()\n",
    "# ------------------------ #"
   ]
  },
  {
   "cell_type": "code",
   "execution_count": 20,
   "metadata": {},
   "outputs": [
    {
     "name": "stdout",
     "output_type": "stream",
     "text": [
      "The first pizza to deliver is pizza #7\n"
     ]
    },
    {
     "data": {
      "text/plain": [
       "'pizza #1'"
      ]
     },
     "execution_count": 20,
     "metadata": {},
     "output_type": "execute_result"
    }
   ],
   "source": [
    "## Test Stack class\n",
    "pizza_stack = Stack(6)\n",
    "# Adding pizzas as they are ready until we have \n",
    "pizza_stack.push(\"pizza #1\")\n",
    "pizza_stack.push(\"pizza #2\")\n",
    "pizza_stack.push(\"pizza #3\")\n",
    "pizza_stack.push(\"pizza #4\")\n",
    "pizza_stack.push(\"pizza #5\")\n",
    "pizza_stack.push(\"pizza #6\")\n",
    "pizza_stack.push(\"pizza #7\")\n",
    "# Delivering pizzas from the top of the stack down\n",
    "print(\"The first pizza to deliver is \" + pizza_stack.peek())\n",
    "pizza_stack.pop()\n",
    "pizza_stack.pop()\n",
    "pizza_stack.pop()\n",
    "pizza_stack.pop()\n",
    "pizza_stack.pop()\n",
    "pizza_stack.pop()\n",
    "pizza_stack.pop()\n"
   ]
  },
  {
   "cell_type": "code",
   "execution_count": 21,
   "metadata": {},
   "outputs": [
    {
     "name": "stdout",
     "output_type": "stream",
     "text": [
      "metamorphic\n",
      "igneous\n",
      "sedimentary\n",
      "metamorphic\n",
      "innocence\n"
     ]
    }
   ],
   "source": [
    "## Test HashMap class\n",
    "hash_map = HashMap(20)\n",
    "hash_map.assign('gneiss', 'metamorphic')\n",
    "print(hash_map.retrieve('gneiss'))  \n",
    "\n",
    "hash_map = HashMap(15)\n",
    "\n",
    "hash_map.assign('gabbro', 'igneous')\n",
    "hash_map.assign('sandstone', 'sedimentary')\n",
    "hash_map.assign('gneiss', 'metamorphic')\n",
    "\n",
    "print(hash_map.retrieve('gabbro'))\n",
    "print(hash_map.retrieve('sandstone'))\n",
    "print(hash_map.retrieve('gneiss'))\n",
    "\n",
    "\n",
    "flower_definitions = [['begonia', 'cautiousness'], ['chrysanthemum', 'cheerfulness'], ['carnation', 'memories'], \n",
    "                      ['daisy', 'innocence'], ['hyacinth', 'playfulness'], ['lavender', 'devotion'], ['magnolia', 'dignity'], \n",
    "                      ['morning glory', 'unrequited love'], ['periwinkle', 'new friendship'], ['poppy', 'rest'], ['rose', 'love'], \n",
    "                      ['snapdragon', 'grace'], ['sunflower', 'longevity'], ['wisteria', 'good luck']]\n",
    "\n",
    "blossom = HashMap_LL(len(flower_definitions))\n",
    "for flower in flower_definitions:\n",
    "  blossom.assign(flower[0], flower[1])\n",
    "print(blossom.retrieve('daisy'))\n"
   ]
  },
  {
   "cell_type": "code",
   "execution_count": 22,
   "metadata": {},
   "outputs": [
    {
     "name": "stdout",
     "output_type": "stream",
     "text": [
      "MONKEY BUSINESS, LLC.\n",
      "=====================\n",
      "'Monkey Business CEO'\n",
      "--->'VP of Bananas'\n",
      "--->--->'Associate Chimp'\n",
      "--->--->'Chief Bonobo'\n",
      "--->'VP of Lazing Around'\n",
      "--->--->'Produce Manager'\n",
      "--->--->'Tire Swing R & D'\n",
      "\n"
     ]
    }
   ],
   "source": [
    "from trees import *\n",
    "company = [\n",
    "  \"Monkey Business CEO\", \n",
    "  \"VP of Bananas\", \n",
    "  \"VP of Lazing Around\", \n",
    "  \"Associate Chimp\", \n",
    "  \"Chief Bonobo\", \"Produce Manager\", \"Tire Swing R & D\"]\n",
    "root = TreeNode(company.pop(0))\n",
    "for count in range(2):\n",
    "  child = TreeNode(company.pop(0))\n",
    "  root.add_child(child)\n",
    "\n",
    "root.children[0].add_child(TreeNode(company.pop(0)))\n",
    "root.children[0].add_child(TreeNode(company.pop(0)))\n",
    "root.children[1].add_child(TreeNode(company.pop(0)))\n",
    "root.children[1].add_child(TreeNode(company.pop(0)))\n",
    "print(\"MONKEY BUSINESS, LLC.\")\n",
    "print(\"=====================\")\n",
    "print(root)"
   ]
  },
  {
   "cell_type": "code",
   "execution_count": 23,
   "metadata": {},
   "outputs": [
    {
     "name": "stdout",
     "output_type": "stream",
     "text": [
      "Adding A wee sappling\n",
      "Adding Root Rot!\n",
      "Removing Root Rot! from I am Root\n"
     ]
    }
   ],
   "source": [
    "root = TreeNodeFull(\"I am Root\")\n",
    "child = TreeNodeFull(\"A wee sappling\")\n",
    "bad_seed = TreeNodeFull(\"Root Rot!\")\n",
    "\n",
    "root.add_child(child)\n",
    "root.add_child(bad_seed)\n",
    "\n",
    "root.remove_child(bad_seed)\n"
   ]
  },
  {
   "cell_type": "code",
   "execution_count": 24,
   "metadata": {},
   "outputs": [
    {
     "name": "stdout",
     "output_type": "stream",
     "text": [
      "Adding Vice-President\n",
      "Adding Head of Marketing\n",
      "Adding Marketing Assistant\n",
      "Traversing...\n",
      "CEO\n",
      "Head of Marketing\n",
      "Marketing Assistant\n",
      "Vice-President\n"
     ]
    }
   ],
   "source": [
    "root = TreeNodeFull(\"CEO\")\n",
    "first_child = TreeNodeFull(\"Vice-President\")\n",
    "second_child = TreeNodeFull(\"Head of Marketing\")\n",
    "third_child = TreeNode(\"Marketing Assistant\")\n",
    "\n",
    "root.add_child(first_child)\n",
    "root.add_child(second_child)\n",
    "second_child.add_child(third_child)\n",
    "\n",
    "root.traverse()"
   ]
  },
  {
   "cell_type": "code",
   "execution_count": 25,
   "metadata": {},
   "outputs": [
    {
     "name": "stdout",
     "output_type": "stream",
     "text": [
      "Searching node with value: Home\n",
      "Searching node with value: Documents\n",
      "Searching node with value: Photos\n",
      "Searching node with value: WishList.txt\n",
      "Searching node with value: TodoList.txt\n",
      "Searching node with value: Fluffy.jpg\n",
      "Path found\n",
      "Home\n",
      "Photos\n",
      "Fluffy.jpg\n"
     ]
    }
   ],
   "source": [
    "sample_root_node = TreeNode_bd(\"Home\")\n",
    "docs = TreeNode_bd(\"Documents\")\n",
    "photos = TreeNode_bd(\"Photos\")\n",
    "sample_root_node.children = [docs, photos]\n",
    "my_wish = TreeNode_bd(\"WishList.txt\")\n",
    "my_todo = TreeNode_bd(\"TodoList.txt\")\n",
    "my_cat = TreeNode_bd(\"Fluffy.jpg\")\n",
    "my_dog = TreeNode_bd(\"Spot.jpg\")\n",
    "docs.children = [my_wish, my_todo]\n",
    "photos.children = [my_cat, my_dog]\n",
    "\n",
    "goal_path = bfs(sample_root_node, \"Fluffy.jpg\")\n",
    "if goal_path is None:\n",
    "  print(\"No path found\")\n",
    "else:\n",
    "  print(\"Path found\")\n",
    "  for node in goal_path:\n",
    "    print(node.value)\n"
   ]
  },
  {
   "cell_type": "code",
   "execution_count": 26,
   "metadata": {},
   "outputs": [
    {
     "name": "stdout",
     "output_type": "stream",
     "text": [
      "\n",
      "A\n",
      "├─C\n",
      "   ├─G\n",
      "   └─F\n",
      "└─B\n",
      "   ├─E\n",
      "   └─D\n",
      "\n"
     ]
    }
   ],
   "source": [
    "sample_root_node = TreeNode_bd(\"A\")\n",
    "b = TreeNode_bd(\"B\")\n",
    "c = TreeNode_bd(\"C\")\n",
    "sample_root_node.children = [b, c]\n",
    "d = TreeNode_bd(\"D\")\n",
    "e = TreeNode_bd(\"E\")\n",
    "f = TreeNode_bd(\"F\")\n",
    "g = TreeNode_bd(\"G\")\n",
    "b.children = [d, e]\n",
    "c.children = [f, g]\n",
    "\n",
    "print_tree(sample_root_node)"
   ]
  },
  {
   "cell_type": "code",
   "execution_count": 27,
   "metadata": {},
   "outputs": [
    {
     "name": "stdout",
     "output_type": "stream",
     "text": [
      "F\n"
     ]
    }
   ],
   "source": [
    "print(dfs_wo_path(sample_root_node, 'F'))"
   ]
  },
  {
   "cell_type": "code",
   "execution_count": 28,
   "metadata": {},
   "outputs": [
    {
     "name": "stdout",
     "output_type": "stream",
     "text": [
      "(A, C, F)\n"
     ]
    }
   ],
   "source": [
    "path = dfs_w_path(sample_root_node, \"F\")\n",
    "print(path)"
   ]
  },
  {
   "cell_type": "code",
   "execution_count": 29,
   "metadata": {},
   "outputs": [
    {
     "name": "stdout",
     "output_type": "stream",
     "text": [
      "[None, 99, 22, 61, 10, 21, 13, 23]\n",
      "the parent index of 4 is:\n",
      "2\n",
      "the left child index of 3 is:\n",
      "6\n",
      "The left child index of index 2 is:\n",
      "4\n",
      "The left child element of index 2 is:\n",
      "10\n",
      "The parent index of index 3 is:\n",
      "1\n",
      "The parent element of index 3 is:\n",
      "99\n",
      "The right child index of index 3 is:\n",
      "7\n",
      "The right child element of index 3 is:\n",
      "23\n"
     ]
    }
   ],
   "source": [
    "# an instance of maxHeap to use\n",
    "max_heap = MaxHeap()\n",
    "\n",
    "# the internal list for our example\n",
    "max_heap.heap_list = [None, 99, 22, 61, 10, 21, 13, 23]\n",
    "print(max_heap.heap_list)\n",
    "\n",
    "\n",
    "# example of how to use the helper methods:\n",
    "print(\"the parent index of 4 is:\")\n",
    "print(max_heap.parent_idx(4))\n",
    "print(\"the left child index of 3 is:\")\n",
    "print(max_heap.left_child_idx(3))\n",
    "\n",
    "# replace 'None' below using the correct helper methods and indexes\n",
    "idx_2_left_child_idx = max_heap.left_child_idx(2)\n",
    "print(\"The left child index of index 2 is:\")\n",
    "print(idx_2_left_child_idx)\n",
    "print(\"The left child element of index 2 is:\")\n",
    "# uncomment the line below to see the result in your console!\n",
    "print(max_heap.heap_list[idx_2_left_child_idx])\n",
    "\n",
    "idx_3_parent_idx = max_heap.parent_idx(3)\n",
    "print(\"The parent index of index 3 is:\")\n",
    "print(idx_3_parent_idx)\n",
    "print(\"The parent element of index 3 is:\")\n",
    "# uncomment the line below to see the result in your console!\n",
    "print(max_heap.heap_list[idx_3_parent_idx])\n",
    "\n",
    "idx_3_right_child_idx = max_heap.right_child_idx(3)\n",
    "print(\"The right child index of index 3 is:\")\n",
    "print(idx_3_right_child_idx)\n",
    "print(\"The right child element of index 3 is:\")\n",
    "# uncomment the line below to see the result in your console!\n",
    "print(max_heap.heap_list[idx_3_right_child_idx])\n"
   ]
  },
  {
   "cell_type": "code",
   "execution_count": 35,
   "metadata": {},
   "outputs": [
    {
     "name": "stdout",
     "output_type": "stream",
     "text": [
      "Adding: 29 to [None]\n",
      "Restoring the heap property…\n",
      "Heap Restored [None, 29]\n",
      "Adding: 70 to [None, 29]\n",
      "Restoring the heap property…\n",
      "swapping 29 with 70\n",
      "Heap Restored [None, 70, 29]\n",
      "Adding: 87 to [None, 70, 29]\n",
      "Restoring the heap property…\n",
      "swapping 70 with 87\n",
      "Heap Restored [None, 87, 29, 70]\n",
      "Adding: 93 to [None, 87, 29, 70]\n",
      "Restoring the heap property…\n",
      "swapping 29 with 93\n",
      "swapping 87 with 93\n",
      "Heap Restored [None, 93, 87, 70, 29]\n",
      "Adding: 96 to [None, 93, 87, 70, 29]\n",
      "Restoring the heap property…\n",
      "swapping 87 with 96\n",
      "swapping 93 with 96\n",
      "Heap Restored [None, 96, 93, 70, 29, 87]\n",
      "Adding: 53 to [None, 96, 93, 70, 29, 87]\n",
      "Restoring the heap property…\n",
      "Heap Restored [None, 96, 93, 70, 29, 87, 53]\n",
      "[None, 96, 93, 70, 29, 87, 53]\n"
     ]
    }
   ],
   "source": [
    "from random import randrange\n",
    "max_heap = MaxHeap()\n",
    "\n",
    "# populate max_heap with random numbers\n",
    "random_nums = [randrange(1, 101) for n in range(6)]\n",
    "for el in random_nums:\n",
    "  max_heap.add(el)\n",
    "\n",
    "\n",
    "# test it out, is the maximum number at index 1?\n",
    "print(max_heap.heap_list)"
   ]
  },
  {
   "cell_type": "code",
   "execution_count": 33,
   "metadata": {},
   "outputs": [
    {
     "data": {
      "text/plain": [
       "0"
      ]
     },
     "execution_count": 33,
     "metadata": {},
     "output_type": "execute_result"
    }
   ],
   "source": [
    "1//2"
   ]
  },
  {
   "cell_type": "code",
   "execution_count": null,
   "metadata": {},
   "outputs": [],
   "source": []
  }
 ],
 "metadata": {
  "kernelspec": {
   "display_name": ".venv",
   "language": "python",
   "name": "python3"
  },
  "language_info": {
   "codemirror_mode": {
    "name": "ipython",
    "version": 3
   },
   "file_extension": ".py",
   "mimetype": "text/x-python",
   "name": "python",
   "nbconvert_exporter": "python",
   "pygments_lexer": "ipython3",
   "version": "3.7.3"
  },
  "orig_nbformat": 4
 },
 "nbformat": 4,
 "nbformat_minor": 2
}
